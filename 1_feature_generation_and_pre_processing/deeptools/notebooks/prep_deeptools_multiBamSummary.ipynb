{
 "cells": [
  {
   "cell_type": "markdown",
   "id": "31348d2d-ab78-466b-a864-e569958f4bda",
   "metadata": {},
   "source": [
    "# REMOVE BLACKLIST REGIONS"
   ]
  },
  {
   "cell_type": "markdown",
   "id": "e0c704c3-c862-4ff5-95c0-af4d8eb7c743",
   "metadata": {},
   "source": [
    "# Prep deepTools multiBamSummary"
   ]
  },
  {
   "cell_type": "markdown",
   "id": "9568a179-1200-4cc3-add2-a00ecd766356",
   "metadata": {},
   "source": [
    "## Purpose:"
   ]
  },
  {
   "cell_type": "markdown",
   "id": "ac299e4a-be3f-4082-a3e9-2ae9e0dbbcd0",
   "metadata": {},
   "source": [
    "* Get Background Regions from FASTA File per Assay\n",
    "* Parse FASTA Identifiers to Create BED Files\n",
    "* Write BED Files"
   ]
  },
  {
   "cell_type": "markdown",
   "id": "01b6a6c2-65b7-4858-80f8-ef22d7504700",
   "metadata": {},
   "source": [
    "## Packages and Options"
   ]
  },
  {
   "cell_type": "code",
   "execution_count": 1,
   "id": "d9674faa-3880-4af0-ae8b-1e3b97a1e816",
   "metadata": {},
   "outputs": [],
   "source": [
    "import glob, os\n",
    "import pandas as pd\n",
    "\n",
    "\n",
    "from IPython.core.interactiveshell import InteractiveShell\n",
    "InteractiveShell.ast_node_interactivity = \"all\""
   ]
  },
  {
   "cell_type": "markdown",
   "id": "4d60f5cf-f203-4440-be83-175db104e21c",
   "metadata": {},
   "source": [
    "## Variables "
   ]
  },
  {
   "cell_type": "code",
   "execution_count": 2,
   "id": "031058bf-ea39-42a0-848e-bc09b7810601",
   "metadata": {},
   "outputs": [],
   "source": [
    "# lines vs CTRL whose background peaks we will pull from\n",
    "lines=[\"56-22\", \"72-20\"]\n",
    "\n",
    "# list of ChIP-Seq Assays\n",
    "chip_seq_assays=[\"H3K4me1\",\"H3K4me3\",\"H3K27Ac\",\"H3K27me3\"]\n",
    "\n",
    "# dict for background regions per assay\n",
    "assay_specific_background_regions={}\n",
    "\n",
    "# dict to store BAM files for each assay for deepTools command \n",
    "assay_BAM_dict={}"
   ]
  },
  {
   "cell_type": "code",
   "execution_count": 3,
   "id": "97837577-c2c7-44a3-99c3-4a34b6b59342",
   "metadata": {},
   "outputs": [],
   "source": [
    "# background FASTA directories for ATAC-Seq and ChIP-Seq\n",
    "atac_seq_background_fasta_dir=\"/nfs/latdata/yraghav/CHDI/atac/reseqeuenced_data/homer/non-specific/background_peaks\"\n",
    "chip_seq_background_fasta_dir=\"/nfs/latdata/yraghav/CHDI/chip/high_coverage_chip/homer/background_peaks/fasta\""
   ]
  },
  {
   "cell_type": "markdown",
   "id": "07b91fc6-ade2-47a3-b239-920ccd12e591",
   "metadata": {},
   "source": [
    "## Get Background Regions from FASTA File"
   ]
  },
  {
   "cell_type": "markdown",
   "id": "6e2dcef2-9501-41bf-ba0a-1f754650fb26",
   "metadata": {},
   "source": [
    "### ATAC-Seq "
   ]
  },
  {
   "cell_type": "code",
   "execution_count": 4,
   "id": "32860156-0d15-4594-953a-f5d5e149e3e6",
   "metadata": {},
   "outputs": [],
   "source": [
    "atac_seq_background_regions=[]\n",
    "\n",
    "# for each line, glob background fasta file, append list with peak region line in fasta without \">\"\n",
    "for line in lines: \n",
    "    files = glob.glob(\"{}/{}*.fa\".format(atac_seq_background_fasta_dir,line))\n",
    "    assert len(files)==1, print(files)\n",
    "    \n",
    "    for file in files: \n",
    "        with open(file) as in_file: \n",
    "            for line in in_file: \n",
    "                if line.startswith(\">\"):\n",
    "                    atac_seq_background_regions.append(line.strip(\"\\n\").split(\">\")[1])\n",
    "                "
   ]
  },
  {
   "cell_type": "code",
   "execution_count": 5,
   "id": "a383fd92-28b0-4f31-bda8-21ede7807ff1",
   "metadata": {},
   "outputs": [],
   "source": [
    "assay_specific_background_regions[\"ATAC\"]=atac_seq_background_regions"
   ]
  },
  {
   "cell_type": "markdown",
   "id": "1941988f-0762-4010-b2e4-b038e6d0dc2d",
   "metadata": {},
   "source": [
    "### ChIP-Seq"
   ]
  },
  {
   "cell_type": "code",
   "execution_count": 6,
   "id": "f6dd5dc9-baa9-4cc7-9b2c-e514e96c4d29",
   "metadata": {},
   "outputs": [],
   "source": [
    "\n",
    "# for each ChIP-Seq Assay, for each line, glob background fasta file, append list with peak region line in fasta without \">\"\n",
    "for assay in chip_seq_assays: \n",
    "    \n",
    "    chip_seq_background_regions=[]\n",
    "    \n",
    "    for line in lines: \n",
    "        files = glob.glob(\"{}/*{}*{}*.fa\".format(chip_seq_background_fasta_dir,line, assay))\n",
    "        assert len(files)==1, print(files)\n",
    "\n",
    "        for file in files: \n",
    "            with open(file) as in_file: \n",
    "                for line in in_file: \n",
    "                    if line.startswith(\">\"):\n",
    "                        chip_seq_background_regions.append(line.strip(\"\\n\").split(\">\")[1])\n",
    "    \n",
    "    assay_specific_background_regions[assay] = chip_seq_background_regions"
   ]
  },
  {
   "cell_type": "markdown",
   "id": "268844ef-ee8d-4d72-ae8c-9e28b76c8cdd",
   "metadata": {},
   "source": [
    "## Sanity Check: Length of Regions Lists & Content"
   ]
  },
  {
   "cell_type": "code",
   "execution_count": 7,
   "id": "c4c91bcc-d3da-4694-aa4f-566bc1e600ce",
   "metadata": {},
   "outputs": [
    {
     "name": "stdout",
     "output_type": "stream",
     "text": [
      "ATAC: 393651\n",
      "H3K4me1: 476714\n",
      "H3K4me3: 138336\n",
      "H3K27Ac: 170820\n",
      "H3K27me3: 86865\n"
     ]
    }
   ],
   "source": [
    "# check length of each object in dict \n",
    "\n",
    "for assay in assay_specific_background_regions:\n",
    "    print(\"{}: {}\".format(assay, len(assay_specific_background_regions[assay])))"
   ]
  },
  {
   "cell_type": "code",
   "execution_count": 8,
   "id": "7bd34692-91ef-4288-a97a-ef8490727d9a",
   "metadata": {},
   "outputs": [
    {
     "data": {
      "text/plain": [
       "0               chr1:66798-67060\n",
       "1             chr1:180739-181148\n",
       "2             chr1:629082-630053\n",
       "3             chr1:630221-630479\n",
       "4             chr1:630719-631404\n",
       "                   ...          \n",
       "393646    chrY:12446474-12446811\n",
       "393647    chrY:12448053-12448296\n",
       "393648    chrY:12450934-12451269\n",
       "393649    chrY:24270746-24270988\n",
       "393650    chrY:25399151-25399399\n",
       "Length: 393651, dtype: object"
      ]
     },
     "execution_count": 8,
     "metadata": {},
     "output_type": "execute_result"
    },
    {
     "data": {
      "text/plain": [
       "0               chr1:777598-778094\n",
       "1               chr1:812028-812445\n",
       "2               chr1:843880-846421\n",
       "3               chr1:858133-859349\n",
       "4               chr1:904819-905892\n",
       "                    ...           \n",
       "476709    chrX:155765522-155767187\n",
       "476710    chrX:155767962-155770339\n",
       "476711    chrX:155770384-155771400\n",
       "476712    chrX:155956864-155958131\n",
       "476713    chrX:155959459-155960584\n",
       "Length: 476714, dtype: object"
      ]
     },
     "execution_count": 8,
     "metadata": {},
     "output_type": "execute_result"
    },
    {
     "data": {
      "text/plain": [
       "0               chr1:777447-779497\n",
       "1               chr1:779576-780466\n",
       "2               chr1:825910-827899\n",
       "3               chr1:828175-828433\n",
       "4               chr1:844631-844974\n",
       "                    ...           \n",
       "138331    chrX:155957211-155958285\n",
       "138332    chrX:155958666-155960245\n",
       "138333    chrX:156016401-156016788\n",
       "138334        chrY:5003106-5003427\n",
       "138335      chrY:12564838-12565123\n",
       "Length: 138336, dtype: object"
      ]
     },
     "execution_count": 8,
     "metadata": {},
     "output_type": "execute_result"
    },
    {
     "data": {
      "text/plain": [
       "0               chr1:778236-778644\n",
       "1               chr1:778729-779409\n",
       "2               chr1:826712-827771\n",
       "3               chr1:958786-959213\n",
       "4             chr1:1012976-1013414\n",
       "                    ...           \n",
       "170815    chrX:155641392-155641820\n",
       "170816    chrX:155770104-155770431\n",
       "170817    chrX:155881365-155881768\n",
       "170818    chrX:155957874-155958216\n",
       "170819    chrX:155958842-155959382\n",
       "Length: 170820, dtype: object"
      ]
     },
     "execution_count": 8,
     "metadata": {},
     "output_type": "execute_result"
    },
    {
     "data": {
      "text/plain": [
       "0            chr1:788734-790364\n",
       "1            chr1:860562-861171\n",
       "2            chr1:861641-864435\n",
       "3            chr1:865151-866637\n",
       "4            chr1:866891-872775\n",
       "                  ...          \n",
       "86860    chrY:56870614-56871622\n",
       "86861    chrY:56872038-56872550\n",
       "86862    chrY:56872818-56873204\n",
       "86863    chrY:56873557-56874690\n",
       "86864    chrY:56879321-56879945\n",
       "Length: 86865, dtype: object"
      ]
     },
     "execution_count": 8,
     "metadata": {},
     "output_type": "execute_result"
    }
   ],
   "source": [
    "for assay in assay_specific_background_regions:\n",
    "    pd.Series(assay_specific_background_regions[assay])"
   ]
  },
  {
   "cell_type": "markdown",
   "id": "f9e4fa1e-3914-4886-bfff-2bfb04b05ba3",
   "metadata": {},
   "source": [
    "## Convert Regions List to BED Format per Assay\n",
    "* ## Write to BED File"
   ]
  },
  {
   "cell_type": "code",
   "execution_count": 9,
   "id": "1007607d-f023-46ab-9bd4-eba93d87bb84",
   "metadata": {},
   "outputs": [],
   "source": [
    "\n",
    "# for each assay in dict of lists \n",
    "# load into pandas\n",
    "# parse to get 3 separate columns (Chrom, Start, End) \n",
    "# write out to file \n",
    "for assay in assay_specific_background_regions: \n",
    "    \n",
    "    tmp=pd.DataFrame(assay_specific_background_regions[assay])\n",
    "    \n",
    "    tmp[\"Chromosome\"] = tmp[0].str.split(\":\").str[0]\n",
    "    tmp[\"Start\"] = tmp[0].str.split(\":\").str[1].str.split(\"-\").str[0]\n",
    "    tmp[\"End\"] = tmp[0].str.split(\":\").str[1].str.split(\"-\").str[1]\n",
    "\n",
    "    tmp[[\"Chromosome\",\"Start\", \"End\"]].to_csv(\n",
    "        \"../output/raw_candidate_regions/{}.bed\".format(assay), \n",
    "        sep=\"\\t\", index=False, header=False)\n",
    "    \n",
    "    "
   ]
  },
  {
   "cell_type": "markdown",
   "id": "51e44c73-ed33-43ed-986a-386746acc7a7",
   "metadata": {},
   "source": [
    "## Get Files"
   ]
  },
  {
   "cell_type": "code",
   "execution_count": 10,
   "id": "e3ae6970-173e-457e-b758-52905bc6711a",
   "metadata": {},
   "outputs": [
    {
     "data": {
      "text/plain": [
       "['/home/yraghav/MIT-Fraenkel-Lab/Projects/CHDI_NeuroLINCS/advanced_analysis/Ordinal_Regression/pre_processing/deeptools/output/raw_candidate_regions/ATAC.bed',\n",
       " '/home/yraghav/MIT-Fraenkel-Lab/Projects/CHDI_NeuroLINCS/advanced_analysis/Ordinal_Regression/pre_processing/deeptools/output/raw_candidate_regions/H3K4me1.bed',\n",
       " '/home/yraghav/MIT-Fraenkel-Lab/Projects/CHDI_NeuroLINCS/advanced_analysis/Ordinal_Regression/pre_processing/deeptools/output/raw_candidate_regions/H3K4me3.bed',\n",
       " '/home/yraghav/MIT-Fraenkel-Lab/Projects/CHDI_NeuroLINCS/advanced_analysis/Ordinal_Regression/pre_processing/deeptools/output/raw_candidate_regions/H3K27Ac.bed',\n",
       " '/home/yraghav/MIT-Fraenkel-Lab/Projects/CHDI_NeuroLINCS/advanced_analysis/Ordinal_Regression/pre_processing/deeptools/output/raw_candidate_regions/H3K27me3.bed']"
      ]
     },
     "execution_count": 10,
     "metadata": {},
     "output_type": "execute_result"
    }
   ],
   "source": [
    "files = glob.glob(\"/home/yraghav/MIT-Fraenkel-Lab/Projects/CHDI_NeuroLINCS/advanced_analysis/Ordinal_Regression/pre_processing/deeptools/output/raw_candidate_regions/*.bed\")\n",
    "files"
   ]
  },
  {
   "cell_type": "markdown",
   "id": "2d4985f1-533d-4c15-af84-6892ed9ee046",
   "metadata": {},
   "source": [
    "## Create Bedtools Sort & Merge Commands "
   ]
  },
  {
   "cell_type": "code",
   "execution_count": 11,
   "id": "a98d6a4e-f424-468e-8615-216969b32c9b",
   "metadata": {},
   "outputs": [],
   "source": [
    "bedtools_path=\"/nfs/apps/bedtools-2.26.0/bin/bedtools\"\n",
    "\n",
    "commands= []\n",
    "\n",
    "for path in files: \n",
    "    \n",
    "    commands.append(\n",
    "        \"{} sort -i {} | {} merge -i stdin | {} intersect -a stdin -b /home/yraghav/reference_inputs/bed/hg38.blacklist.bed -v > /home/yraghav/MIT-Fraenkel-Lab/Projects/CHDI_NeuroLINCS/advanced_analysis/Ordinal_Regression/pre_processing/deeptools/output/sorted_merged_candidate_regions/{}\".format(\n",
    "            bedtools_path,\n",
    "            path, \n",
    "            bedtools_path,\n",
    "            bedtools_path,\n",
    "            path.split(\"/\")[-1].replace(\".bed\", \".sorted.merged.bed\")  \n",
    "            \n",
    "        )\n",
    "    ) "
   ]
  },
  {
   "cell_type": "markdown",
   "id": "91683f52-e2bf-4e77-9f0a-fa27d814251d",
   "metadata": {},
   "source": [
    "## Print Commands (Copy & Paste to Terminal)"
   ]
  },
  {
   "cell_type": "code",
   "execution_count": 12,
   "id": "f4ee186b-c6ae-4092-ac4e-cb14a3473382",
   "metadata": {},
   "outputs": [
    {
     "name": "stdout",
     "output_type": "stream",
     "text": [
      "/nfs/apps/bedtools-2.26.0/bin/bedtools sort -i /home/yraghav/MIT-Fraenkel-Lab/Projects/CHDI_NeuroLINCS/advanced_analysis/Ordinal_Regression/pre_processing/deeptools/output/raw_candidate_regions/ATAC.bed | /nfs/apps/bedtools-2.26.0/bin/bedtools merge -i stdin | /nfs/apps/bedtools-2.26.0/bin/bedtools intersect -a stdin -b /home/yraghav/reference_inputs/bed/hg38.blacklist.bed -v > /home/yraghav/MIT-Fraenkel-Lab/Projects/CHDI_NeuroLINCS/advanced_analysis/Ordinal_Regression/pre_processing/deeptools/output/sorted_merged_candidate_regions/ATAC.sorted.merged.bed\n",
      "/nfs/apps/bedtools-2.26.0/bin/bedtools sort -i /home/yraghav/MIT-Fraenkel-Lab/Projects/CHDI_NeuroLINCS/advanced_analysis/Ordinal_Regression/pre_processing/deeptools/output/raw_candidate_regions/H3K4me1.bed | /nfs/apps/bedtools-2.26.0/bin/bedtools merge -i stdin | /nfs/apps/bedtools-2.26.0/bin/bedtools intersect -a stdin -b /home/yraghav/reference_inputs/bed/hg38.blacklist.bed -v > /home/yraghav/MIT-Fraenkel-Lab/Projects/CHDI_NeuroLINCS/advanced_analysis/Ordinal_Regression/pre_processing/deeptools/output/sorted_merged_candidate_regions/H3K4me1.sorted.merged.bed\n",
      "/nfs/apps/bedtools-2.26.0/bin/bedtools sort -i /home/yraghav/MIT-Fraenkel-Lab/Projects/CHDI_NeuroLINCS/advanced_analysis/Ordinal_Regression/pre_processing/deeptools/output/raw_candidate_regions/H3K4me3.bed | /nfs/apps/bedtools-2.26.0/bin/bedtools merge -i stdin | /nfs/apps/bedtools-2.26.0/bin/bedtools intersect -a stdin -b /home/yraghav/reference_inputs/bed/hg38.blacklist.bed -v > /home/yraghav/MIT-Fraenkel-Lab/Projects/CHDI_NeuroLINCS/advanced_analysis/Ordinal_Regression/pre_processing/deeptools/output/sorted_merged_candidate_regions/H3K4me3.sorted.merged.bed\n",
      "/nfs/apps/bedtools-2.26.0/bin/bedtools sort -i /home/yraghav/MIT-Fraenkel-Lab/Projects/CHDI_NeuroLINCS/advanced_analysis/Ordinal_Regression/pre_processing/deeptools/output/raw_candidate_regions/H3K27Ac.bed | /nfs/apps/bedtools-2.26.0/bin/bedtools merge -i stdin | /nfs/apps/bedtools-2.26.0/bin/bedtools intersect -a stdin -b /home/yraghav/reference_inputs/bed/hg38.blacklist.bed -v > /home/yraghav/MIT-Fraenkel-Lab/Projects/CHDI_NeuroLINCS/advanced_analysis/Ordinal_Regression/pre_processing/deeptools/output/sorted_merged_candidate_regions/H3K27Ac.sorted.merged.bed\n",
      "/nfs/apps/bedtools-2.26.0/bin/bedtools sort -i /home/yraghav/MIT-Fraenkel-Lab/Projects/CHDI_NeuroLINCS/advanced_analysis/Ordinal_Regression/pre_processing/deeptools/output/raw_candidate_regions/H3K27me3.bed | /nfs/apps/bedtools-2.26.0/bin/bedtools merge -i stdin | /nfs/apps/bedtools-2.26.0/bin/bedtools intersect -a stdin -b /home/yraghav/reference_inputs/bed/hg38.blacklist.bed -v > /home/yraghav/MIT-Fraenkel-Lab/Projects/CHDI_NeuroLINCS/advanced_analysis/Ordinal_Regression/pre_processing/deeptools/output/sorted_merged_candidate_regions/H3K27me3.sorted.merged.bed\n"
     ]
    }
   ],
   "source": [
    "for command in commands: \n",
    "    print(command)"
   ]
  },
  {
   "cell_type": "markdown",
   "id": "0dc63d19-26d0-49db-8b5e-eeeb817058db",
   "metadata": {},
   "source": [
    "## Validate Output"
   ]
  },
  {
   "cell_type": "code",
   "execution_count": 13,
   "id": "97577ed5-042b-48a8-9355-e2e38b019f04",
   "metadata": {},
   "outputs": [
    {
     "name": "stdout",
     "output_type": "stream",
     "text": [
      "\n",
      "File and Number of Regions\n",
      "\n",
      "\n",
      "/home/yraghav/MIT-Fraenkel-Lab/Projects/CHDI_NeuroLINCS/advanced_analysis/Ordinal_Regression/pre_processing/deeptools/output/sorted_merged_candidate_regions/ATAC.sorted.merged.bed: 206607\n",
      "/home/yraghav/MIT-Fraenkel-Lab/Projects/CHDI_NeuroLINCS/advanced_analysis/Ordinal_Regression/pre_processing/deeptools/output/sorted_merged_candidate_regions/H3K4me1.sorted.merged.bed: 247764\n",
      "/home/yraghav/MIT-Fraenkel-Lab/Projects/CHDI_NeuroLINCS/advanced_analysis/Ordinal_Regression/pre_processing/deeptools/output/sorted_merged_candidate_regions/H3K4me3.sorted.merged.bed: 72216\n",
      "/home/yraghav/MIT-Fraenkel-Lab/Projects/CHDI_NeuroLINCS/advanced_analysis/Ordinal_Regression/pre_processing/deeptools/output/sorted_merged_candidate_regions/H3K27Ac.sorted.merged.bed: 93917\n",
      "/home/yraghav/MIT-Fraenkel-Lab/Projects/CHDI_NeuroLINCS/advanced_analysis/Ordinal_Regression/pre_processing/deeptools/output/sorted_merged_candidate_regions/H3K27me3.sorted.merged.bed: 45959\n"
     ]
    }
   ],
   "source": [
    "print(\"\\nFile and Number of Regions\\n\\n\")\n",
    "\n",
    "for file in glob.glob(\"/home/yraghav/MIT-Fraenkel-Lab/Projects/CHDI_NeuroLINCS/advanced_analysis/Ordinal_Regression/pre_processing/deeptools/output/sorted_merged_candidate_regions/*.bed\"): \n",
    "    num_lines = 0 \n",
    "    \n",
    "    with open(file,'r') as in_file: \n",
    "        for line in in_file: \n",
    "            num_lines+=1\n",
    "    \n",
    "    print(\"{}: {}\".format(file, num_lines))"
   ]
  },
  {
   "cell_type": "markdown",
   "id": "e0fc537e-c653-43a1-b009-771b6390f12f",
   "metadata": {},
   "source": [
    "## Get BAM Files"
   ]
  },
  {
   "cell_type": "markdown",
   "id": "974c3adb-c928-403a-86b4-2a52344fa022",
   "metadata": {},
   "source": [
    "### ATAC-Seq"
   ]
  },
  {
   "cell_type": "code",
   "execution_count": 14,
   "id": "7089e63f-895c-497c-a784-2a1b70581de0",
   "metadata": {},
   "outputs": [],
   "source": [
    "\n",
    "assay_BAM_dict[\"ATAC\"]=[]\n",
    "\n",
    "# for each line\n",
    "# glob for sample sheet corresponding to line\n",
    "# read sample sheet in Pandas \n",
    "# subset \"bamReads\" column to list to extend \"assay BAM dict\"\n",
    "\n",
    "for line in lines: \n",
    "    \n",
    "    file = glob.glob(\"/home/yraghav/MIT-Fraenkel-Lab/Projects/CHDI_NeuroLINCS/atac/differential_analysis/sample_sheets/resequenced_data/*{}*.csv\".format(line))\n",
    "    assert len(file)==1, print(file)\n",
    "    \n",
    "    tmp_df = pd.read_csv(file[0], sep=\",\")\n",
    "    assay_BAM_dict[\"ATAC\"].extend(sorted(tmp_df[\"bamReads\"].to_list()))\n",
    "    \n",
    "    "
   ]
  },
  {
   "cell_type": "markdown",
   "id": "396705c4-9060-40ae-ac1a-be51c930b5c9",
   "metadata": {},
   "source": [
    "### ChIP-Seq"
   ]
  },
  {
   "cell_type": "code",
   "execution_count": 15,
   "id": "12ac0dea-ef9d-4293-b2cb-22a38a991934",
   "metadata": {},
   "outputs": [],
   "source": [
    "\n",
    "for assay in chip_seq_assays: \n",
    "    \n",
    "    assay_BAM_dict[assay] = []\n",
    "    \n",
    "    for line in lines: \n",
    "    \n",
    "        file = glob.glob(\"/home/yraghav/MIT-Fraenkel-Lab/Projects/CHDI_NeuroLINCS/chip/high_coverage/diff_analysis/sample_sheets/{}/*{}*.csv\".format(\n",
    "            assay, line\n",
    "            )\n",
    "        )\n",
    "        \n",
    "        assert len(file)==1, print(file)\n",
    "        \n",
    "        tmp_df = pd.read_csv(file[0], sep=\",\")\n",
    "        assay_BAM_dict[assay].extend(sorted(tmp_df[\"bamReads\"].to_list()))\n"
   ]
  },
  {
   "cell_type": "markdown",
   "id": "b9d2439a-f07a-428e-ace6-8f4316b35641",
   "metadata": {},
   "source": [
    "### Make Unique List of BAM Files"
   ]
  },
  {
   "cell_type": "code",
   "execution_count": 16,
   "id": "cc20cef8-f3a9-4885-a0c7-f51e6fc3a801",
   "metadata": {},
   "outputs": [
    {
     "data": {
      "text/plain": [
       "'Initial size: 18'"
      ]
     },
     "execution_count": 16,
     "metadata": {},
     "output_type": "execute_result"
    },
    {
     "data": {
      "text/plain": [
       "'Final size: 12'"
      ]
     },
     "execution_count": 16,
     "metadata": {},
     "output_type": "execute_result"
    },
    {
     "data": {
      "text/plain": [
       "'Initial size: 21'"
      ]
     },
     "execution_count": 16,
     "metadata": {},
     "output_type": "execute_result"
    },
    {
     "data": {
      "text/plain": [
       "'Final size: 14'"
      ]
     },
     "execution_count": 16,
     "metadata": {},
     "output_type": "execute_result"
    },
    {
     "data": {
      "text/plain": [
       "'Initial size: 18'"
      ]
     },
     "execution_count": 16,
     "metadata": {},
     "output_type": "execute_result"
    },
    {
     "data": {
      "text/plain": [
       "'Final size: 12'"
      ]
     },
     "execution_count": 16,
     "metadata": {},
     "output_type": "execute_result"
    },
    {
     "data": {
      "text/plain": [
       "'Initial size: 22'"
      ]
     },
     "execution_count": 16,
     "metadata": {},
     "output_type": "execute_result"
    },
    {
     "data": {
      "text/plain": [
       "'Final size: 14'"
      ]
     },
     "execution_count": 16,
     "metadata": {},
     "output_type": "execute_result"
    },
    {
     "data": {
      "text/plain": [
       "'Initial size: 20'"
      ]
     },
     "execution_count": 16,
     "metadata": {},
     "output_type": "execute_result"
    },
    {
     "data": {
      "text/plain": [
       "'Final size: 13'"
      ]
     },
     "execution_count": 16,
     "metadata": {},
     "output_type": "execute_result"
    }
   ],
   "source": [
    "# for each assay, unique list of BAM Files\n",
    "\n",
    "for assay in assay_BAM_dict: \n",
    "    \"Initial size: {}\".format(len(assay_BAM_dict[assay]))\n",
    "    \n",
    "    assay_BAM_dict[assay] = list(set(assay_BAM_dict[assay]))\n",
    "    \n",
    "    \"Final size: {}\".format(len(assay_BAM_dict[assay]))\n"
   ]
  },
  {
   "cell_type": "markdown",
   "id": "6f67b5ea-778a-43fd-a618-8103f229e219",
   "metadata": {},
   "source": [
    "## Make multiBamSummary Commands"
   ]
  },
  {
   "cell_type": "code",
   "execution_count": 18,
   "id": "7e306853-d03d-45fa-bd9d-d463164da935",
   "metadata": {},
   "outputs": [
    {
     "data": {
      "text/plain": [
       "2288"
      ]
     },
     "execution_count": 18,
     "metadata": {},
     "output_type": "execute_result"
    },
    {
     "data": {
      "text/plain": [
       "2636"
      ]
     },
     "execution_count": 18,
     "metadata": {},
     "output_type": "execute_result"
    },
    {
     "data": {
      "text/plain": [
       "2346"
      ]
     },
     "execution_count": 18,
     "metadata": {},
     "output_type": "execute_result"
    },
    {
     "data": {
      "text/plain": [
       "2636"
      ]
     },
     "execution_count": 18,
     "metadata": {},
     "output_type": "execute_result"
    },
    {
     "data": {
      "text/plain": [
       "2509"
      ]
     },
     "execution_count": 18,
     "metadata": {},
     "output_type": "execute_result"
    }
   ],
   "source": [
    "counter = 1\n",
    "\n",
    "with open(\"../deeptools_scripts/multiBamSummary.sh\",'w') as out_file: \n",
    "    \n",
    "    for assay in assay_BAM_dict: \n",
    "                \n",
    "        out_file.write(\n",
    "            \"multiBamSummary BED-file --BED /home/yraghav/MIT-Fraenkel-Lab/Projects/CHDI_NeuroLINCS/advanced_analysis/Ordinal_Regression/pre_processing/deeptools/output/sorted_merged_candidate_regions/{}.sorted.merged.bed --bamfiles {} -o /home/yraghav/DELETE_{}.npz --smartLabels --outRawCounts /home/yraghav/MIT-Fraenkel-Lab/Projects/CHDI_NeuroLINCS/advanced_analysis/Ordinal_Regression/pre_processing/deeptools/output/matrices/raw/{}_raw_counts_matrix.tab --scalingFactors /home/yraghav/MIT-Fraenkel-Lab/Projects/CHDI_NeuroLINCS/advanced_analysis/Ordinal_Regression/pre_processing/deeptools/output/scaling_factors/{}_scaling_factors.tab -p 60 \\n\".format(\n",
    "                assay, \n",
    "                \" \".join(assay_BAM_dict[assay]), \n",
    "                counter, \n",
    "                assay, \n",
    "                assay \n",
    "                \n",
    "            )\n",
    "        )\n",
    "        \n",
    "        counter+=1\n",
    "    "
   ]
  }
 ],
 "metadata": {
  "kernelspec": {
   "display_name": "Python 3",
   "language": "python",
   "name": "python3"
  },
  "language_info": {
   "codemirror_mode": {
    "name": "ipython",
    "version": 3
   },
   "file_extension": ".py",
   "mimetype": "text/x-python",
   "name": "python",
   "nbconvert_exporter": "python",
   "pygments_lexer": "ipython3",
   "version": "3.9.4"
  }
 },
 "nbformat": 4,
 "nbformat_minor": 5
}
