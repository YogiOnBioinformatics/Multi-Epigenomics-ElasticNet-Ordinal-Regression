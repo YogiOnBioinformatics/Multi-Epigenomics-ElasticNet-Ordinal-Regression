{
 "cells": [
  {
   "cell_type": "markdown",
   "id": "e4552533-fabe-45ed-ad6a-1d851b21354b",
   "metadata": {},
   "source": [
    "# `polr` Ordinal Regression"
   ]
  },
  {
   "cell_type": "markdown",
   "id": "d93bd29f-5536-4334-888e-27a648c5fef1",
   "metadata": {},
   "source": [
    "## Purpose: "
   ]
  },
  {
   "cell_type": "markdown",
   "id": "1178e31d-cc55-4254-826d-9afab2eb53c0",
   "metadata": {},
   "source": [
    "* Install `polr` package \n",
    "* Load non-zero features from `ordinalNet`\n",
    "* Get p-values of features using `polr`"
   ]
  },
  {
   "cell_type": "markdown",
   "id": "058778a2-d536-4a95-8e9e-a9260b26a098",
   "metadata": {},
   "source": [
    "## Packages"
   ]
  },
  {
   "cell_type": "markdown",
   "id": "4471b8ab-4596-4e1f-b576-01ed004cb2ec",
   "metadata": {},
   "source": [
    "Install \"polr\" package"
   ]
  },
  {
   "cell_type": "code",
   "execution_count": 1,
   "id": "487c47df-48ac-4734-a348-31ee28dc8b10",
   "metadata": {},
   "outputs": [],
   "source": [
    "# install.packages(\"MASS\", \"/home/yraghav/notebook_container/R/MASS\")\n",
    "\n",
    "# install.packages(\"ordinal\", \"/home/yraghav/notebook_container/R/ordinal\")"
   ]
  },
  {
   "cell_type": "code",
   "execution_count": 2,
   "id": "c57c8c55-446d-48e1-ba78-24ae85092cb3",
   "metadata": {},
   "outputs": [
    {
     "data": {
      "text/html": [
       "'/opt/conda/lib/R/library'"
      ],
      "text/latex": [
       "'/opt/conda/lib/R/library'"
      ],
      "text/markdown": [
       "'/opt/conda/lib/R/library'"
      ],
      "text/plain": [
       "[1] \"/opt/conda/lib/R/library\""
      ]
     },
     "metadata": {},
     "output_type": "display_data"
    },
    {
     "data": {
      "text/html": [
       "<style>\n",
       ".list-inline {list-style: none; margin:0; padding: 0}\n",
       ".list-inline>li {display: inline-block}\n",
       ".list-inline>li:not(:last-child)::after {content: \"\\00b7\"; padding: 0 .5ex}\n",
       "</style>\n",
       "<ol class=list-inline><li>'/opt/conda/lib/R/library'</li><li>'/home/yraghav/notebook_container/R/MASS'</li></ol>\n"
      ],
      "text/latex": [
       "\\begin{enumerate*}\n",
       "\\item '/opt/conda/lib/R/library'\n",
       "\\item '/home/yraghav/notebook\\_container/R/MASS'\n",
       "\\end{enumerate*}\n"
      ],
      "text/markdown": [
       "1. '/opt/conda/lib/R/library'\n",
       "2. '/home/yraghav/notebook_container/R/MASS'\n",
       "\n",
       "\n"
      ],
      "text/plain": [
       "[1] \"/opt/conda/lib/R/library\"               \n",
       "[2] \"/home/yraghav/notebook_container/R/MASS\""
      ]
     },
     "metadata": {},
     "output_type": "display_data"
    }
   ],
   "source": [
    ".libPaths()\n",
    ".libPaths(c(.libPaths(), \"/home/yraghav/notebook_container/R/MASS\"))\n",
    ".libPaths()"
   ]
  },
  {
   "cell_type": "code",
   "execution_count": 3,
   "id": "763c6f44-33a9-45c8-982d-2210207eff5a",
   "metadata": {},
   "outputs": [],
   "source": [
    "library(\"MASS\")\n",
    "library(\"data.table\")\n",
    "# library(\"ordinal\")"
   ]
  },
  {
   "cell_type": "code",
   "execution_count": 4,
   "id": "ce70ea82-8742-49d4-9922-83d85812fdc0",
   "metadata": {},
   "outputs": [
    {
     "name": "stderr",
     "output_type": "stream",
     "text": [
      "Warning message:\n",
      "“'memory.limit()' is Windows-specific”\n"
     ]
    },
    {
     "data": {
      "text/html": [
       "Inf"
      ],
      "text/latex": [
       "Inf"
      ],
      "text/markdown": [
       "Inf"
      ],
      "text/plain": [
       "[1] Inf"
      ]
     },
     "metadata": {},
     "output_type": "display_data"
    }
   ],
   "source": [
    "options(\"expressions\" = 500000)\n",
    "memory.limit(size=80000000)"
   ]
  },
  {
   "cell_type": "markdown",
   "id": "a6e7db08-59b0-4b83-8c83-c0ea1fc36fbb",
   "metadata": {},
   "source": [
    "## ATAC-Seq"
   ]
  },
  {
   "cell_type": "code",
   "execution_count": 5,
   "id": "720fa3f6-6557-457b-accc-0ed85def09e6",
   "metadata": {},
   "outputs": [],
   "source": [
    "# load table first, do not check names, transpose so rows are samples and features are columns\n",
    "\n",
    "ATAC_matrix = (data.table::fread(\n",
    "    \"/home/yraghav/MIT-Fraenkel-Lab/Projects/CHDI_NeuroLINCS/advanced_analysis/Ordinal_Regression/2_PCA_feature_selection/output/scaled/H3K27me3.PCA_selected_features.scaled.matrix\", \n",
    "    header=TRUE, \n",
    "    sep=\"\\t\",\n",
    "    check.names=FALSE\n",
    "    ))"
   ]
  },
  {
   "cell_type": "code",
   "execution_count": 6,
   "id": "3fcf5cbd-bcee-4a8a-af07-d0238156a229",
   "metadata": {},
   "outputs": [],
   "source": [
    "# ATAC_matrix"
   ]
  },
  {
   "cell_type": "code",
   "execution_count": 7,
   "id": "63774620-a6ee-4874-8501-5c21d09cf748",
   "metadata": {},
   "outputs": [],
   "source": [
    "# rownames(ATAC_matrix) = ATAC_matrix[,1]\n",
    "# ATAC_matrix = ATAC_matrix[,-1]"
   ]
  },
  {
   "cell_type": "code",
   "execution_count": 8,
   "id": "5720f52e-89fc-4a2c-bf8b-e924b49a5412",
   "metadata": {},
   "outputs": [
    {
     "data": {
      "text/html": [
       "<style>\n",
       ".list-inline {list-style: none; margin:0; padding: 0}\n",
       ".list-inline>li {display: inline-block}\n",
       ".list-inline>li:not(:last-child)::after {content: \"\\00b7\"; padding: 0 .5ex}\n",
       "</style>\n",
       "<ol class=list-inline><li>'\\'56-22_H3K27me3_rep3_210115Fra_D20-4893-3_NA_sequence.fastq.merged.nodup.no_chrM_MT\\''</li><li>'\\'20-20_H3K27me3_rep3-1_210115Fra_D20-4766-2_NA_sequence.fastq.merged.nodup.no_chrM_MT\\''</li><li>'\\'20-20_H3K27me3_rep2_210115Fra_D20-5077-3_NA_sequence.fastq.merged.nodup.no_chrM_MT\\''</li><li>'\\'22-20_H3K27me3_rep3_210115Fra_D20-4764-1_NA_sequence.fastq.merged.nodup.no_chrM_MT\\''</li><li>'\\'22-20_H3K27me3_rep1_210115Fra_D20-4169-1_NA_sequence.fastq.merged.nodup.no_chrM_MT\\''</li><li>'\\'56-22_H3K27me3_rep2_210115Fra_D20-5079-3_NA_sequence.fastq.merged.nodup.no_chrM_MT\\''</li><li>'\\'56-22_H3K27me3_rep1_210115Fra_D20-5525-4_NA_sequence.fastq.merged.nodup.no_chrM_MT\\''</li><li>'\\'72-20_H3K27me3_rep3_210115Fra_D20-4896-4_NA_sequence.fastq.merged.nodup.no_chrM_MT\\''</li><li>'\\'72-20_H3K27me3_rep1_210115Fra_D20-5528-3_NA_sequence.fastq.merged.nodup.no_chrM_MT\\''</li><li>'\\'22-20_H3K27me3_rep1-1_210115Fra_D20-5405-3_NA_sequence.fastq.merged.nodup.no_chrM_MT\\''</li><li>'\\'72-20_H3K27me3_rep2_210115Fra_D20-5202-3_NA_sequence.fastq.merged.nodup.no_chrM_MT\\''</li><li>'\\'22-20_H3K27me3_rep2_210115Fra_D20-4987-4_NA_sequence.fastq.merged.nodup.no_chrM_MT\\''</li><li>'\\'20-20_H3K27me3_rep1_210115Fra_D20-5408-4_NA_sequence.fastq.merged.nodup.no_chrM_MT\\''</li></ol>\n"
      ],
      "text/latex": [
       "\\begin{enumerate*}\n",
       "\\item '\\textbackslash{}'56-22\\_H3K27me3\\_rep3\\_210115Fra\\_D20-4893-3\\_NA\\_sequence.fastq.merged.nodup.no\\_chrM\\_MT\\textbackslash{}''\n",
       "\\item '\\textbackslash{}'20-20\\_H3K27me3\\_rep3-1\\_210115Fra\\_D20-4766-2\\_NA\\_sequence.fastq.merged.nodup.no\\_chrM\\_MT\\textbackslash{}''\n",
       "\\item '\\textbackslash{}'20-20\\_H3K27me3\\_rep2\\_210115Fra\\_D20-5077-3\\_NA\\_sequence.fastq.merged.nodup.no\\_chrM\\_MT\\textbackslash{}''\n",
       "\\item '\\textbackslash{}'22-20\\_H3K27me3\\_rep3\\_210115Fra\\_D20-4764-1\\_NA\\_sequence.fastq.merged.nodup.no\\_chrM\\_MT\\textbackslash{}''\n",
       "\\item '\\textbackslash{}'22-20\\_H3K27me3\\_rep1\\_210115Fra\\_D20-4169-1\\_NA\\_sequence.fastq.merged.nodup.no\\_chrM\\_MT\\textbackslash{}''\n",
       "\\item '\\textbackslash{}'56-22\\_H3K27me3\\_rep2\\_210115Fra\\_D20-5079-3\\_NA\\_sequence.fastq.merged.nodup.no\\_chrM\\_MT\\textbackslash{}''\n",
       "\\item '\\textbackslash{}'56-22\\_H3K27me3\\_rep1\\_210115Fra\\_D20-5525-4\\_NA\\_sequence.fastq.merged.nodup.no\\_chrM\\_MT\\textbackslash{}''\n",
       "\\item '\\textbackslash{}'72-20\\_H3K27me3\\_rep3\\_210115Fra\\_D20-4896-4\\_NA\\_sequence.fastq.merged.nodup.no\\_chrM\\_MT\\textbackslash{}''\n",
       "\\item '\\textbackslash{}'72-20\\_H3K27me3\\_rep1\\_210115Fra\\_D20-5528-3\\_NA\\_sequence.fastq.merged.nodup.no\\_chrM\\_MT\\textbackslash{}''\n",
       "\\item '\\textbackslash{}'22-20\\_H3K27me3\\_rep1-1\\_210115Fra\\_D20-5405-3\\_NA\\_sequence.fastq.merged.nodup.no\\_chrM\\_MT\\textbackslash{}''\n",
       "\\item '\\textbackslash{}'72-20\\_H3K27me3\\_rep2\\_210115Fra\\_D20-5202-3\\_NA\\_sequence.fastq.merged.nodup.no\\_chrM\\_MT\\textbackslash{}''\n",
       "\\item '\\textbackslash{}'22-20\\_H3K27me3\\_rep2\\_210115Fra\\_D20-4987-4\\_NA\\_sequence.fastq.merged.nodup.no\\_chrM\\_MT\\textbackslash{}''\n",
       "\\item '\\textbackslash{}'20-20\\_H3K27me3\\_rep1\\_210115Fra\\_D20-5408-4\\_NA\\_sequence.fastq.merged.nodup.no\\_chrM\\_MT\\textbackslash{}''\n",
       "\\end{enumerate*}\n"
      ],
      "text/markdown": [
       "1. '\\'56-22_H3K27me3_rep3_210115Fra_D20-4893-3_NA_sequence.fastq.merged.nodup.no_chrM_MT\\''\n",
       "2. '\\'20-20_H3K27me3_rep3-1_210115Fra_D20-4766-2_NA_sequence.fastq.merged.nodup.no_chrM_MT\\''\n",
       "3. '\\'20-20_H3K27me3_rep2_210115Fra_D20-5077-3_NA_sequence.fastq.merged.nodup.no_chrM_MT\\''\n",
       "4. '\\'22-20_H3K27me3_rep3_210115Fra_D20-4764-1_NA_sequence.fastq.merged.nodup.no_chrM_MT\\''\n",
       "5. '\\'22-20_H3K27me3_rep1_210115Fra_D20-4169-1_NA_sequence.fastq.merged.nodup.no_chrM_MT\\''\n",
       "6. '\\'56-22_H3K27me3_rep2_210115Fra_D20-5079-3_NA_sequence.fastq.merged.nodup.no_chrM_MT\\''\n",
       "7. '\\'56-22_H3K27me3_rep1_210115Fra_D20-5525-4_NA_sequence.fastq.merged.nodup.no_chrM_MT\\''\n",
       "8. '\\'72-20_H3K27me3_rep3_210115Fra_D20-4896-4_NA_sequence.fastq.merged.nodup.no_chrM_MT\\''\n",
       "9. '\\'72-20_H3K27me3_rep1_210115Fra_D20-5528-3_NA_sequence.fastq.merged.nodup.no_chrM_MT\\''\n",
       "10. '\\'22-20_H3K27me3_rep1-1_210115Fra_D20-5405-3_NA_sequence.fastq.merged.nodup.no_chrM_MT\\''\n",
       "11. '\\'72-20_H3K27me3_rep2_210115Fra_D20-5202-3_NA_sequence.fastq.merged.nodup.no_chrM_MT\\''\n",
       "12. '\\'22-20_H3K27me3_rep2_210115Fra_D20-4987-4_NA_sequence.fastq.merged.nodup.no_chrM_MT\\''\n",
       "13. '\\'20-20_H3K27me3_rep1_210115Fra_D20-5408-4_NA_sequence.fastq.merged.nodup.no_chrM_MT\\''\n",
       "\n",
       "\n"
      ],
      "text/plain": [
       " [1] \"'56-22_H3K27me3_rep3_210115Fra_D20-4893-3_NA_sequence.fastq.merged.nodup.no_chrM_MT'\"  \n",
       " [2] \"'20-20_H3K27me3_rep3-1_210115Fra_D20-4766-2_NA_sequence.fastq.merged.nodup.no_chrM_MT'\"\n",
       " [3] \"'20-20_H3K27me3_rep2_210115Fra_D20-5077-3_NA_sequence.fastq.merged.nodup.no_chrM_MT'\"  \n",
       " [4] \"'22-20_H3K27me3_rep3_210115Fra_D20-4764-1_NA_sequence.fastq.merged.nodup.no_chrM_MT'\"  \n",
       " [5] \"'22-20_H3K27me3_rep1_210115Fra_D20-4169-1_NA_sequence.fastq.merged.nodup.no_chrM_MT'\"  \n",
       " [6] \"'56-22_H3K27me3_rep2_210115Fra_D20-5079-3_NA_sequence.fastq.merged.nodup.no_chrM_MT'\"  \n",
       " [7] \"'56-22_H3K27me3_rep1_210115Fra_D20-5525-4_NA_sequence.fastq.merged.nodup.no_chrM_MT'\"  \n",
       " [8] \"'72-20_H3K27me3_rep3_210115Fra_D20-4896-4_NA_sequence.fastq.merged.nodup.no_chrM_MT'\"  \n",
       " [9] \"'72-20_H3K27me3_rep1_210115Fra_D20-5528-3_NA_sequence.fastq.merged.nodup.no_chrM_MT'\"  \n",
       "[10] \"'22-20_H3K27me3_rep1-1_210115Fra_D20-5405-3_NA_sequence.fastq.merged.nodup.no_chrM_MT'\"\n",
       "[11] \"'72-20_H3K27me3_rep2_210115Fra_D20-5202-3_NA_sequence.fastq.merged.nodup.no_chrM_MT'\"  \n",
       "[12] \"'22-20_H3K27me3_rep2_210115Fra_D20-4987-4_NA_sequence.fastq.merged.nodup.no_chrM_MT'\"  \n",
       "[13] \"'20-20_H3K27me3_rep1_210115Fra_D20-5408-4_NA_sequence.fastq.merged.nodup.no_chrM_MT'\"  "
      ]
     },
     "metadata": {},
     "output_type": "display_data"
    }
   ],
   "source": [
    "# original_row_names=rownames(ATAC_matrix)\n",
    "original_row_names = ATAC_matrix$V1\n",
    "original_row_names"
   ]
  },
  {
   "cell_type": "code",
   "execution_count": 9,
   "id": "27ec6a10-8168-4cd1-a150-351e53dff125",
   "metadata": {},
   "outputs": [],
   "source": [
    "# ATAC_matrix"
   ]
  },
  {
   "cell_type": "markdown",
   "id": "02c319fc-a2c8-427a-93ce-2f58da42a12c",
   "metadata": {},
   "source": [
    "## Get Significant Features"
   ]
  },
  {
   "cell_type": "code",
   "execution_count": 10,
   "id": "c01fe5f0-f449-48c6-b073-3b39a787f711",
   "metadata": {},
   "outputs": [],
   "source": [
    "sig_features_table = data.table::fread(\n",
    "    \"/home/yraghav/MIT-Fraenkel-Lab/Projects/CHDI_NeuroLINCS/advanced_analysis/Ordinal_Regression/3_ordinalNet_feature_selection/output/H3K27me3.coefficients.matrix\",\n",
    "    sep=\"\\t\", \n",
    "    check.names=FALSE,\n",
    "    skip=3\n",
    "    )\n",
    "sig_features_table"
   ]
  },
  {
   "cell_type": "code",
   "execution_count": 11,
   "id": "97724a15-fab2-4c19-8b08-9b05c9600b7d",
   "metadata": {},
   "outputs": [],
   "source": [
    "sig_features = c(sig_features_table[V2!=0]$V1)\n",
    "\n",
    "sig_features"
   ]
  },
  {
   "cell_type": "code",
   "execution_count": 12,
   "id": "d109149c-0898-42d5-8cdc-127c9260dcc9",
   "metadata": {},
   "outputs": [],
   "source": [
    "ATAC_matrix = subset(ATAC_matrix, select=c(sig_features))\n",
    "rownames(ATAC_matrix) = original_row_names\n",
    "ATAC_matrix"
   ]
  },
  {
   "cell_type": "markdown",
   "id": "51eaa441-cd45-481b-a079-37471123bdab",
   "metadata": {},
   "source": [
    "## Assign Condition"
   ]
  },
  {
   "cell_type": "code",
   "execution_count": 13,
   "id": "17950966-ff50-4842-aae9-7da9c02f4d30",
   "metadata": {},
   "outputs": [],
   "source": [
    "############\n",
    "# ATAC-Seq #\n",
    "############\n",
    "\n",
    "# condition = c(\"Control\", \"Control\", \"High\", \"Medium\", \"Medium\", \"High\", \"Control\", \"Control\", \"Medium\", \"Control\", \"Control\", \"High\")\n",
    "# condition = factor(condition, order=TRUE, levels = c(\"Control\", \"Medium\", \"High\"))\n",
    "\n",
    "# condition\n",
    "\n",
    "condition = list()\n",
    "\n",
    "for (sample in original_row_names){\n",
    "    q_length= strsplit(sample, split=\"_\")[[1]][1]\n",
    "\n",
    "    if (grepl(\"20-20\",q_length)==TRUE | grepl(\"22-20\", q_length)==TRUE){\n",
    "\n",
    "        condition = c(condition, \"Control\")\n",
    "\n",
    "    }\n",
    "    else if (grepl(\"56-22\",q_length)==TRUE){\n",
    "        condition = c(condition, \"Medium\")\n",
    "    }\n",
    "    else if (grepl(\"72-20\", q_length)==TRUE){\n",
    "        condition = c(condition, \"High\")\n",
    "    }\n",
    "\n",
    "}\n",
    "\n",
    "condition = factor(condition, order=TRUE, levels = c(\"Control\", \"Medium\", \"High\"))"
   ]
  },
  {
   "cell_type": "code",
   "execution_count": 14,
   "id": "188d302d-e60a-4eb0-8c63-2801ed3202cd",
   "metadata": {},
   "outputs": [
    {
     "data": {
      "text/html": [
       "<table class=\"dataframe\">\n",
       "<caption>A data.table: 13 × 8002</caption>\n",
       "<thead>\n",
       "\t<tr><th scope=col>condition</th><th scope=col>V1</th><th scope=col>chr1:865151-866637</th><th scope=col>chr1:893984-895972</th><th scope=col>chr1:896338-896626</th><th scope=col>chr1:978039-1012768</th><th scope=col>chr1:1033469-1040884</th><th scope=col>chr1:1093124-1102685</th><th scope=col>chr1:1116459-1122235</th><th scope=col>chr1:1173861-1177877</th><th scope=col>⋯</th><th scope=col>chrX:155195977-155197058</th><th scope=col>chrX:155808742-155809545</th><th scope=col>chrX:155997290-155999632</th><th scope=col>chrY:11107221-11107764</th><th scope=col>chrY:11291679-11294673</th><th scope=col>chrY:11312482-11312986</th><th scope=col>chrY:56830571-56839930</th><th scope=col>chrY:56840097-56841100</th><th scope=col>chrY:56842147-56844584</th><th scope=col>chrY:56871910-56872550</th></tr>\n",
       "\t<tr><th scope=col>&lt;ord&gt;</th><th scope=col>&lt;chr&gt;</th><th scope=col>&lt;dbl&gt;</th><th scope=col>&lt;dbl&gt;</th><th scope=col>&lt;dbl&gt;</th><th scope=col>&lt;dbl&gt;</th><th scope=col>&lt;dbl&gt;</th><th scope=col>&lt;dbl&gt;</th><th scope=col>&lt;dbl&gt;</th><th scope=col>&lt;dbl&gt;</th><th scope=col>⋯</th><th scope=col>&lt;dbl&gt;</th><th scope=col>&lt;dbl&gt;</th><th scope=col>&lt;dbl&gt;</th><th scope=col>&lt;dbl&gt;</th><th scope=col>&lt;dbl&gt;</th><th scope=col>&lt;dbl&gt;</th><th scope=col>&lt;dbl&gt;</th><th scope=col>&lt;dbl&gt;</th><th scope=col>&lt;dbl&gt;</th><th scope=col>&lt;dbl&gt;</th></tr>\n",
       "</thead>\n",
       "<tbody>\n",
       "\t<tr><td>Medium </td><td>'56-22_H3K27me3_rep3_210115Fra_D20-4893-3_NA_sequence.fastq.merged.nodup.no_chrM_MT'  </td><td>-1.64158230</td><td>-1.61516830</td><td>-1.17805846</td><td>-1.77204579</td><td>-1.79919376</td><td>-1.60196690</td><td>-1.78619955</td><td>-1.65083154</td><td>⋯</td><td>-1.24573662</td><td>-0.90803886</td><td>-1.14199386</td><td>-1.0767967</td><td>-1.280114494</td><td>-1.12021974</td><td>-1.2677838</td><td>-1.2849386</td><td>-1.43228821</td><td>-1.2209447</td></tr>\n",
       "\t<tr><td>Control</td><td>'20-20_H3K27me3_rep3-1_210115Fra_D20-4766-2_NA_sequence.fastq.merged.nodup.no_chrM_MT'</td><td>-0.04662999</td><td> 0.07230367</td><td>-0.53674212</td><td>-0.06528382</td><td>-0.08707753</td><td>-0.15698326</td><td> 0.07069496</td><td>-0.16666137</td><td>⋯</td><td> 0.32309810</td><td>-0.32075846</td><td>-0.45851320</td><td>-0.4772263</td><td>-0.334667846</td><td>-0.20106473</td><td>-0.1970321</td><td>-0.3013612</td><td>-0.05304641</td><td>-0.7781738</td></tr>\n",
       "\t<tr><td>Control</td><td>'20-20_H3K27me3_rep2_210115Fra_D20-5077-3_NA_sequence.fastq.merged.nodup.no_chrM_MT'  </td><td> 0.07320741</td><td> 0.06073715</td><td> 1.15202810</td><td> 0.04457452</td><td> 0.13176943</td><td> 0.04068799</td><td> 0.10005586</td><td>-0.12742834</td><td>⋯</td><td>-0.52344644</td><td>-0.39128403</td><td>-0.83835861</td><td>-1.0155648</td><td>-0.979618739</td><td>-0.59758074</td><td>-0.5987141</td><td>-0.5101605</td><td>-0.42341693</td><td>-0.8414904</td></tr>\n",
       "\t<tr><td>Control</td><td>'22-20_H3K27me3_rep3_210115Fra_D20-4764-1_NA_sequence.fastq.merged.nodup.no_chrM_MT'  </td><td>-1.39159931</td><td>-1.42368316</td><td>-0.89273338</td><td>-1.35831062</td><td>-1.37679446</td><td>-1.24285529</td><td>-1.36771221</td><td>-1.35822078</td><td>⋯</td><td>-0.91582772</td><td>-0.56308003</td><td>-0.78063955</td><td>-0.6458549</td><td>-0.515246801</td><td>-1.00574208</td><td>-0.7490242</td><td>-0.5421367</td><td>-1.05423485</td><td>-0.8737104</td></tr>\n",
       "\t<tr><td>Control</td><td>'22-20_H3K27me3_rep1_210115Fra_D20-4169-1_NA_sequence.fastq.merged.nodup.no_chrM_MT'  </td><td> 0.11591543</td><td> 0.26023328</td><td>-1.53231784</td><td> 0.72482590</td><td> 0.79573163</td><td>-0.25944238</td><td> 0.58983954</td><td> 0.81519832</td><td>⋯</td><td> 2.56752925</td><td> 2.25705717</td><td> 2.66385058</td><td> 2.3907511</td><td> 2.032436587</td><td> 1.93679696</td><td> 2.2287754</td><td> 1.8374929</td><td> 1.86666497</td><td> 2.2731651</td></tr>\n",
       "\t<tr><td>Medium </td><td>'56-22_H3K27me3_rep2_210115Fra_D20-5079-3_NA_sequence.fastq.merged.nodup.no_chrM_MT'  </td><td>-0.28077500</td><td>-0.20189874</td><td>-0.14354469</td><td>-0.33650393</td><td>-0.38544716</td><td>-0.35390168</td><td>-0.37759650</td><td>-0.31856457</td><td>⋯</td><td>-1.09262109</td><td>-0.53536736</td><td>-0.23991049</td><td>-0.6186544</td><td>-0.798120147</td><td>-0.64691917</td><td>-0.5983104</td><td>-0.9099538</td><td>-0.57758820</td><td>-0.6869814</td></tr>\n",
       "\t<tr><td>Medium </td><td>'56-22_H3K27me3_rep1_210115Fra_D20-5525-4_NA_sequence.fastq.merged.nodup.no_chrM_MT'  </td><td> 0.08965781</td><td> 0.12880580</td><td>-0.04158733</td><td>-0.07820146</td><td>-0.13952452</td><td> 0.38902221</td><td>-0.03150021</td><td>-0.02117041</td><td>⋯</td><td> 0.07181798</td><td>-0.13406964</td><td>-0.62875018</td><td>-0.4098423</td><td> 0.083376585</td><td> 0.26818660</td><td>-0.1281676</td><td>-0.1706913</td><td> 0.06829408</td><td> 0.8113858</td></tr>\n",
       "\t<tr><td>High   </td><td>'72-20_H3K27me3_rep3_210115Fra_D20-4896-4_NA_sequence.fastq.merged.nodup.no_chrM_MT'  </td><td>-1.53569585</td><td>-1.29248131</td><td>-1.07526278</td><td>-1.43930860</td><td>-1.43144369</td><td>-1.34597075</td><td>-1.38412874</td><td>-1.44921966</td><td>⋯</td><td>-0.58816605</td><td>-0.89291907</td><td>-0.97890340</td><td>-1.0490367</td><td>-0.855488832</td><td>-1.47656774</td><td>-1.0312473</td><td>-1.3716949</td><td>-1.28766745</td><td>-1.0193690</td></tr>\n",
       "\t<tr><td>High   </td><td>'72-20_H3K27me3_rep1_210115Fra_D20-5528-3_NA_sequence.fastq.merged.nodup.no_chrM_MT'  </td><td> 1.12070069</td><td> 1.00255463</td><td> 0.99760941</td><td> 0.98414955</td><td> 0.97916619</td><td> 1.33006417</td><td> 1.10968302</td><td> 1.06905042</td><td>⋯</td><td> 0.62220360</td><td>-0.43773737</td><td> 0.77006665</td><td> 1.1920584</td><td> 0.299268465</td><td>-0.03357013</td><td> 0.3620827</td><td> 1.1450446</td><td> 0.41910178</td><td> 0.9267091</td></tr>\n",
       "\t<tr><td>Control</td><td>'22-20_H3K27me3_rep1-1_210115Fra_D20-5405-3_NA_sequence.fastq.merged.nodup.no_chrM_MT'</td><td>-0.21543643</td><td>-0.79761072</td><td> 0.22819363</td><td>-0.19488379</td><td>-0.08740195</td><td>-0.38934510</td><td>-0.36096700</td><td>-0.34354768</td><td>⋯</td><td>-0.47444861</td><td>-0.02761864</td><td> 0.04989674</td><td>-0.2222849</td><td>-0.456937028</td><td>-0.01333567</td><td>-0.2781429</td><td>-0.2025586</td><td> 0.01515500</td><td> 0.3246458</td></tr>\n",
       "\t<tr><td>High   </td><td>'72-20_H3K27me3_rep2_210115Fra_D20-5202-3_NA_sequence.fastq.merged.nodup.no_chrM_MT'  </td><td> 1.21952903</td><td> 1.04254675</td><td> 0.89757067</td><td> 0.78799940</td><td> 0.79489092</td><td> 0.77766621</td><td> 0.80548945</td><td> 0.99449007</td><td>⋯</td><td>-0.26451950</td><td>-0.34585428</td><td> 0.46503552</td><td> 0.4120110</td><td> 0.006393987</td><td> 0.29840354</td><td>-0.3619668</td><td>-0.2149075</td><td>-0.05759010</td><td>-0.2212587</td></tr>\n",
       "\t<tr><td>Control</td><td>'22-20_H3K27me3_rep2_210115Fra_D20-4987-4_NA_sequence.fastq.merged.nodup.no_chrM_MT'  </td><td> 1.30122771</td><td> 1.30200512</td><td> 1.94644991</td><td> 1.42803850</td><td> 1.30587861</td><td> 1.07095165</td><td> 1.17223717</td><td> 1.29382822</td><td>⋯</td><td> 1.11803869</td><td> 0.04304297</td><td> 0.89762037</td><td> 0.7862436</td><td> 1.010283801</td><td> 0.81330286</td><td> 0.9501583</td><td> 1.2468272</td><td> 0.61473443</td><td> 0.3141952</td></tr>\n",
       "\t<tr><td>Control</td><td>'20-20_H3K27me3_rep1_210115Fra_D20-5408-4_NA_sequence.fastq.merged.nodup.no_chrM_MT'  </td><td> 1.19148080</td><td> 1.46165583</td><td> 0.17839487</td><td> 1.27495015</td><td> 1.29944628</td><td> 1.74207312</td><td> 1.46010421</td><td> 1.26307731</td><td>⋯</td><td> 0.40207840</td><td> 2.25662758</td><td> 0.22059944</td><td> 0.7341968</td><td> 1.788434463</td><td> 1.77831004</td><td> 1.6693728</td><td> 1.2790384</td><td> 1.90188190</td><td> 0.9918274</td></tr>\n",
       "</tbody>\n",
       "</table>\n"
      ],
      "text/latex": [
       "A data.table: 13 × 8002\n",
       "\\begin{tabular}{lllllllllllllllllllll}\n",
       " condition & V1 & chr1:865151-866637 & chr1:893984-895972 & chr1:896338-896626 & chr1:978039-1012768 & chr1:1033469-1040884 & chr1:1093124-1102685 & chr1:1116459-1122235 & chr1:1173861-1177877 & ⋯ & chrX:155195977-155197058 & chrX:155808742-155809545 & chrX:155997290-155999632 & chrY:11107221-11107764 & chrY:11291679-11294673 & chrY:11312482-11312986 & chrY:56830571-56839930 & chrY:56840097-56841100 & chrY:56842147-56844584 & chrY:56871910-56872550\\\\\n",
       " <ord> & <chr> & <dbl> & <dbl> & <dbl> & <dbl> & <dbl> & <dbl> & <dbl> & <dbl> & ⋯ & <dbl> & <dbl> & <dbl> & <dbl> & <dbl> & <dbl> & <dbl> & <dbl> & <dbl> & <dbl>\\\\\n",
       "\\hline\n",
       "\t Medium  & '56-22\\_H3K27me3\\_rep3\\_210115Fra\\_D20-4893-3\\_NA\\_sequence.fastq.merged.nodup.no\\_chrM\\_MT'   & -1.64158230 & -1.61516830 & -1.17805846 & -1.77204579 & -1.79919376 & -1.60196690 & -1.78619955 & -1.65083154 & ⋯ & -1.24573662 & -0.90803886 & -1.14199386 & -1.0767967 & -1.280114494 & -1.12021974 & -1.2677838 & -1.2849386 & -1.43228821 & -1.2209447\\\\\n",
       "\t Control & '20-20\\_H3K27me3\\_rep3-1\\_210115Fra\\_D20-4766-2\\_NA\\_sequence.fastq.merged.nodup.no\\_chrM\\_MT' & -0.04662999 &  0.07230367 & -0.53674212 & -0.06528382 & -0.08707753 & -0.15698326 &  0.07069496 & -0.16666137 & ⋯ &  0.32309810 & -0.32075846 & -0.45851320 & -0.4772263 & -0.334667846 & -0.20106473 & -0.1970321 & -0.3013612 & -0.05304641 & -0.7781738\\\\\n",
       "\t Control & '20-20\\_H3K27me3\\_rep2\\_210115Fra\\_D20-5077-3\\_NA\\_sequence.fastq.merged.nodup.no\\_chrM\\_MT'   &  0.07320741 &  0.06073715 &  1.15202810 &  0.04457452 &  0.13176943 &  0.04068799 &  0.10005586 & -0.12742834 & ⋯ & -0.52344644 & -0.39128403 & -0.83835861 & -1.0155648 & -0.979618739 & -0.59758074 & -0.5987141 & -0.5101605 & -0.42341693 & -0.8414904\\\\\n",
       "\t Control & '22-20\\_H3K27me3\\_rep3\\_210115Fra\\_D20-4764-1\\_NA\\_sequence.fastq.merged.nodup.no\\_chrM\\_MT'   & -1.39159931 & -1.42368316 & -0.89273338 & -1.35831062 & -1.37679446 & -1.24285529 & -1.36771221 & -1.35822078 & ⋯ & -0.91582772 & -0.56308003 & -0.78063955 & -0.6458549 & -0.515246801 & -1.00574208 & -0.7490242 & -0.5421367 & -1.05423485 & -0.8737104\\\\\n",
       "\t Control & '22-20\\_H3K27me3\\_rep1\\_210115Fra\\_D20-4169-1\\_NA\\_sequence.fastq.merged.nodup.no\\_chrM\\_MT'   &  0.11591543 &  0.26023328 & -1.53231784 &  0.72482590 &  0.79573163 & -0.25944238 &  0.58983954 &  0.81519832 & ⋯ &  2.56752925 &  2.25705717 &  2.66385058 &  2.3907511 &  2.032436587 &  1.93679696 &  2.2287754 &  1.8374929 &  1.86666497 &  2.2731651\\\\\n",
       "\t Medium  & '56-22\\_H3K27me3\\_rep2\\_210115Fra\\_D20-5079-3\\_NA\\_sequence.fastq.merged.nodup.no\\_chrM\\_MT'   & -0.28077500 & -0.20189874 & -0.14354469 & -0.33650393 & -0.38544716 & -0.35390168 & -0.37759650 & -0.31856457 & ⋯ & -1.09262109 & -0.53536736 & -0.23991049 & -0.6186544 & -0.798120147 & -0.64691917 & -0.5983104 & -0.9099538 & -0.57758820 & -0.6869814\\\\\n",
       "\t Medium  & '56-22\\_H3K27me3\\_rep1\\_210115Fra\\_D20-5525-4\\_NA\\_sequence.fastq.merged.nodup.no\\_chrM\\_MT'   &  0.08965781 &  0.12880580 & -0.04158733 & -0.07820146 & -0.13952452 &  0.38902221 & -0.03150021 & -0.02117041 & ⋯ &  0.07181798 & -0.13406964 & -0.62875018 & -0.4098423 &  0.083376585 &  0.26818660 & -0.1281676 & -0.1706913 &  0.06829408 &  0.8113858\\\\\n",
       "\t High    & '72-20\\_H3K27me3\\_rep3\\_210115Fra\\_D20-4896-4\\_NA\\_sequence.fastq.merged.nodup.no\\_chrM\\_MT'   & -1.53569585 & -1.29248131 & -1.07526278 & -1.43930860 & -1.43144369 & -1.34597075 & -1.38412874 & -1.44921966 & ⋯ & -0.58816605 & -0.89291907 & -0.97890340 & -1.0490367 & -0.855488832 & -1.47656774 & -1.0312473 & -1.3716949 & -1.28766745 & -1.0193690\\\\\n",
       "\t High    & '72-20\\_H3K27me3\\_rep1\\_210115Fra\\_D20-5528-3\\_NA\\_sequence.fastq.merged.nodup.no\\_chrM\\_MT'   &  1.12070069 &  1.00255463 &  0.99760941 &  0.98414955 &  0.97916619 &  1.33006417 &  1.10968302 &  1.06905042 & ⋯ &  0.62220360 & -0.43773737 &  0.77006665 &  1.1920584 &  0.299268465 & -0.03357013 &  0.3620827 &  1.1450446 &  0.41910178 &  0.9267091\\\\\n",
       "\t Control & '22-20\\_H3K27me3\\_rep1-1\\_210115Fra\\_D20-5405-3\\_NA\\_sequence.fastq.merged.nodup.no\\_chrM\\_MT' & -0.21543643 & -0.79761072 &  0.22819363 & -0.19488379 & -0.08740195 & -0.38934510 & -0.36096700 & -0.34354768 & ⋯ & -0.47444861 & -0.02761864 &  0.04989674 & -0.2222849 & -0.456937028 & -0.01333567 & -0.2781429 & -0.2025586 &  0.01515500 &  0.3246458\\\\\n",
       "\t High    & '72-20\\_H3K27me3\\_rep2\\_210115Fra\\_D20-5202-3\\_NA\\_sequence.fastq.merged.nodup.no\\_chrM\\_MT'   &  1.21952903 &  1.04254675 &  0.89757067 &  0.78799940 &  0.79489092 &  0.77766621 &  0.80548945 &  0.99449007 & ⋯ & -0.26451950 & -0.34585428 &  0.46503552 &  0.4120110 &  0.006393987 &  0.29840354 & -0.3619668 & -0.2149075 & -0.05759010 & -0.2212587\\\\\n",
       "\t Control & '22-20\\_H3K27me3\\_rep2\\_210115Fra\\_D20-4987-4\\_NA\\_sequence.fastq.merged.nodup.no\\_chrM\\_MT'   &  1.30122771 &  1.30200512 &  1.94644991 &  1.42803850 &  1.30587861 &  1.07095165 &  1.17223717 &  1.29382822 & ⋯ &  1.11803869 &  0.04304297 &  0.89762037 &  0.7862436 &  1.010283801 &  0.81330286 &  0.9501583 &  1.2468272 &  0.61473443 &  0.3141952\\\\\n",
       "\t Control & '20-20\\_H3K27me3\\_rep1\\_210115Fra\\_D20-5408-4\\_NA\\_sequence.fastq.merged.nodup.no\\_chrM\\_MT'   &  1.19148080 &  1.46165583 &  0.17839487 &  1.27495015 &  1.29944628 &  1.74207312 &  1.46010421 &  1.26307731 & ⋯ &  0.40207840 &  2.25662758 &  0.22059944 &  0.7341968 &  1.788434463 &  1.77831004 &  1.6693728 &  1.2790384 &  1.90188190 &  0.9918274\\\\\n",
       "\\end{tabular}\n"
      ],
      "text/markdown": [
       "\n",
       "A data.table: 13 × 8002\n",
       "\n",
       "| condition &lt;ord&gt; | V1 &lt;chr&gt; | chr1:865151-866637 &lt;dbl&gt; | chr1:893984-895972 &lt;dbl&gt; | chr1:896338-896626 &lt;dbl&gt; | chr1:978039-1012768 &lt;dbl&gt; | chr1:1033469-1040884 &lt;dbl&gt; | chr1:1093124-1102685 &lt;dbl&gt; | chr1:1116459-1122235 &lt;dbl&gt; | chr1:1173861-1177877 &lt;dbl&gt; | ⋯ ⋯ | chrX:155195977-155197058 &lt;dbl&gt; | chrX:155808742-155809545 &lt;dbl&gt; | chrX:155997290-155999632 &lt;dbl&gt; | chrY:11107221-11107764 &lt;dbl&gt; | chrY:11291679-11294673 &lt;dbl&gt; | chrY:11312482-11312986 &lt;dbl&gt; | chrY:56830571-56839930 &lt;dbl&gt; | chrY:56840097-56841100 &lt;dbl&gt; | chrY:56842147-56844584 &lt;dbl&gt; | chrY:56871910-56872550 &lt;dbl&gt; |\n",
       "|---|---|---|---|---|---|---|---|---|---|---|---|---|---|---|---|---|---|---|---|---|\n",
       "| Medium  | '56-22_H3K27me3_rep3_210115Fra_D20-4893-3_NA_sequence.fastq.merged.nodup.no_chrM_MT'   | -1.64158230 | -1.61516830 | -1.17805846 | -1.77204579 | -1.79919376 | -1.60196690 | -1.78619955 | -1.65083154 | ⋯ | -1.24573662 | -0.90803886 | -1.14199386 | -1.0767967 | -1.280114494 | -1.12021974 | -1.2677838 | -1.2849386 | -1.43228821 | -1.2209447 |\n",
       "| Control | '20-20_H3K27me3_rep3-1_210115Fra_D20-4766-2_NA_sequence.fastq.merged.nodup.no_chrM_MT' | -0.04662999 |  0.07230367 | -0.53674212 | -0.06528382 | -0.08707753 | -0.15698326 |  0.07069496 | -0.16666137 | ⋯ |  0.32309810 | -0.32075846 | -0.45851320 | -0.4772263 | -0.334667846 | -0.20106473 | -0.1970321 | -0.3013612 | -0.05304641 | -0.7781738 |\n",
       "| Control | '20-20_H3K27me3_rep2_210115Fra_D20-5077-3_NA_sequence.fastq.merged.nodup.no_chrM_MT'   |  0.07320741 |  0.06073715 |  1.15202810 |  0.04457452 |  0.13176943 |  0.04068799 |  0.10005586 | -0.12742834 | ⋯ | -0.52344644 | -0.39128403 | -0.83835861 | -1.0155648 | -0.979618739 | -0.59758074 | -0.5987141 | -0.5101605 | -0.42341693 | -0.8414904 |\n",
       "| Control | '22-20_H3K27me3_rep3_210115Fra_D20-4764-1_NA_sequence.fastq.merged.nodup.no_chrM_MT'   | -1.39159931 | -1.42368316 | -0.89273338 | -1.35831062 | -1.37679446 | -1.24285529 | -1.36771221 | -1.35822078 | ⋯ | -0.91582772 | -0.56308003 | -0.78063955 | -0.6458549 | -0.515246801 | -1.00574208 | -0.7490242 | -0.5421367 | -1.05423485 | -0.8737104 |\n",
       "| Control | '22-20_H3K27me3_rep1_210115Fra_D20-4169-1_NA_sequence.fastq.merged.nodup.no_chrM_MT'   |  0.11591543 |  0.26023328 | -1.53231784 |  0.72482590 |  0.79573163 | -0.25944238 |  0.58983954 |  0.81519832 | ⋯ |  2.56752925 |  2.25705717 |  2.66385058 |  2.3907511 |  2.032436587 |  1.93679696 |  2.2287754 |  1.8374929 |  1.86666497 |  2.2731651 |\n",
       "| Medium  | '56-22_H3K27me3_rep2_210115Fra_D20-5079-3_NA_sequence.fastq.merged.nodup.no_chrM_MT'   | -0.28077500 | -0.20189874 | -0.14354469 | -0.33650393 | -0.38544716 | -0.35390168 | -0.37759650 | -0.31856457 | ⋯ | -1.09262109 | -0.53536736 | -0.23991049 | -0.6186544 | -0.798120147 | -0.64691917 | -0.5983104 | -0.9099538 | -0.57758820 | -0.6869814 |\n",
       "| Medium  | '56-22_H3K27me3_rep1_210115Fra_D20-5525-4_NA_sequence.fastq.merged.nodup.no_chrM_MT'   |  0.08965781 |  0.12880580 | -0.04158733 | -0.07820146 | -0.13952452 |  0.38902221 | -0.03150021 | -0.02117041 | ⋯ |  0.07181798 | -0.13406964 | -0.62875018 | -0.4098423 |  0.083376585 |  0.26818660 | -0.1281676 | -0.1706913 |  0.06829408 |  0.8113858 |\n",
       "| High    | '72-20_H3K27me3_rep3_210115Fra_D20-4896-4_NA_sequence.fastq.merged.nodup.no_chrM_MT'   | -1.53569585 | -1.29248131 | -1.07526278 | -1.43930860 | -1.43144369 | -1.34597075 | -1.38412874 | -1.44921966 | ⋯ | -0.58816605 | -0.89291907 | -0.97890340 | -1.0490367 | -0.855488832 | -1.47656774 | -1.0312473 | -1.3716949 | -1.28766745 | -1.0193690 |\n",
       "| High    | '72-20_H3K27me3_rep1_210115Fra_D20-5528-3_NA_sequence.fastq.merged.nodup.no_chrM_MT'   |  1.12070069 |  1.00255463 |  0.99760941 |  0.98414955 |  0.97916619 |  1.33006417 |  1.10968302 |  1.06905042 | ⋯ |  0.62220360 | -0.43773737 |  0.77006665 |  1.1920584 |  0.299268465 | -0.03357013 |  0.3620827 |  1.1450446 |  0.41910178 |  0.9267091 |\n",
       "| Control | '22-20_H3K27me3_rep1-1_210115Fra_D20-5405-3_NA_sequence.fastq.merged.nodup.no_chrM_MT' | -0.21543643 | -0.79761072 |  0.22819363 | -0.19488379 | -0.08740195 | -0.38934510 | -0.36096700 | -0.34354768 | ⋯ | -0.47444861 | -0.02761864 |  0.04989674 | -0.2222849 | -0.456937028 | -0.01333567 | -0.2781429 | -0.2025586 |  0.01515500 |  0.3246458 |\n",
       "| High    | '72-20_H3K27me3_rep2_210115Fra_D20-5202-3_NA_sequence.fastq.merged.nodup.no_chrM_MT'   |  1.21952903 |  1.04254675 |  0.89757067 |  0.78799940 |  0.79489092 |  0.77766621 |  0.80548945 |  0.99449007 | ⋯ | -0.26451950 | -0.34585428 |  0.46503552 |  0.4120110 |  0.006393987 |  0.29840354 | -0.3619668 | -0.2149075 | -0.05759010 | -0.2212587 |\n",
       "| Control | '22-20_H3K27me3_rep2_210115Fra_D20-4987-4_NA_sequence.fastq.merged.nodup.no_chrM_MT'   |  1.30122771 |  1.30200512 |  1.94644991 |  1.42803850 |  1.30587861 |  1.07095165 |  1.17223717 |  1.29382822 | ⋯ |  1.11803869 |  0.04304297 |  0.89762037 |  0.7862436 |  1.010283801 |  0.81330286 |  0.9501583 |  1.2468272 |  0.61473443 |  0.3141952 |\n",
       "| Control | '20-20_H3K27me3_rep1_210115Fra_D20-5408-4_NA_sequence.fastq.merged.nodup.no_chrM_MT'   |  1.19148080 |  1.46165583 |  0.17839487 |  1.27495015 |  1.29944628 |  1.74207312 |  1.46010421 |  1.26307731 | ⋯ |  0.40207840 |  2.25662758 |  0.22059944 |  0.7341968 |  1.788434463 |  1.77831004 |  1.6693728 |  1.2790384 |  1.90188190 |  0.9918274 |\n",
       "\n"
      ],
      "text/plain": [
       "   condition\n",
       "1  Medium   \n",
       "2  Control  \n",
       "3  Control  \n",
       "4  Control  \n",
       "5  Control  \n",
       "6  Medium   \n",
       "7  Medium   \n",
       "8  High     \n",
       "9  High     \n",
       "10 Control  \n",
       "11 High     \n",
       "12 Control  \n",
       "13 Control  \n",
       "   V1                                                                                    \n",
       "1  '56-22_H3K27me3_rep3_210115Fra_D20-4893-3_NA_sequence.fastq.merged.nodup.no_chrM_MT'  \n",
       "2  '20-20_H3K27me3_rep3-1_210115Fra_D20-4766-2_NA_sequence.fastq.merged.nodup.no_chrM_MT'\n",
       "3  '20-20_H3K27me3_rep2_210115Fra_D20-5077-3_NA_sequence.fastq.merged.nodup.no_chrM_MT'  \n",
       "4  '22-20_H3K27me3_rep3_210115Fra_D20-4764-1_NA_sequence.fastq.merged.nodup.no_chrM_MT'  \n",
       "5  '22-20_H3K27me3_rep1_210115Fra_D20-4169-1_NA_sequence.fastq.merged.nodup.no_chrM_MT'  \n",
       "6  '56-22_H3K27me3_rep2_210115Fra_D20-5079-3_NA_sequence.fastq.merged.nodup.no_chrM_MT'  \n",
       "7  '56-22_H3K27me3_rep1_210115Fra_D20-5525-4_NA_sequence.fastq.merged.nodup.no_chrM_MT'  \n",
       "8  '72-20_H3K27me3_rep3_210115Fra_D20-4896-4_NA_sequence.fastq.merged.nodup.no_chrM_MT'  \n",
       "9  '72-20_H3K27me3_rep1_210115Fra_D20-5528-3_NA_sequence.fastq.merged.nodup.no_chrM_MT'  \n",
       "10 '22-20_H3K27me3_rep1-1_210115Fra_D20-5405-3_NA_sequence.fastq.merged.nodup.no_chrM_MT'\n",
       "11 '72-20_H3K27me3_rep2_210115Fra_D20-5202-3_NA_sequence.fastq.merged.nodup.no_chrM_MT'  \n",
       "12 '22-20_H3K27me3_rep2_210115Fra_D20-4987-4_NA_sequence.fastq.merged.nodup.no_chrM_MT'  \n",
       "13 '20-20_H3K27me3_rep1_210115Fra_D20-5408-4_NA_sequence.fastq.merged.nodup.no_chrM_MT'  \n",
       "   chr1:865151-866637 chr1:893984-895972 chr1:896338-896626 chr1:978039-1012768\n",
       "1  -1.64158230        -1.61516830        -1.17805846        -1.77204579        \n",
       "2  -0.04662999         0.07230367        -0.53674212        -0.06528382        \n",
       "3   0.07320741         0.06073715         1.15202810         0.04457452        \n",
       "4  -1.39159931        -1.42368316        -0.89273338        -1.35831062        \n",
       "5   0.11591543         0.26023328        -1.53231784         0.72482590        \n",
       "6  -0.28077500        -0.20189874        -0.14354469        -0.33650393        \n",
       "7   0.08965781         0.12880580        -0.04158733        -0.07820146        \n",
       "8  -1.53569585        -1.29248131        -1.07526278        -1.43930860        \n",
       "9   1.12070069         1.00255463         0.99760941         0.98414955        \n",
       "10 -0.21543643        -0.79761072         0.22819363        -0.19488379        \n",
       "11  1.21952903         1.04254675         0.89757067         0.78799940        \n",
       "12  1.30122771         1.30200512         1.94644991         1.42803850        \n",
       "13  1.19148080         1.46165583         0.17839487         1.27495015        \n",
       "   chr1:1033469-1040884 chr1:1093124-1102685 chr1:1116459-1122235\n",
       "1  -1.79919376          -1.60196690          -1.78619955         \n",
       "2  -0.08707753          -0.15698326           0.07069496         \n",
       "3   0.13176943           0.04068799           0.10005586         \n",
       "4  -1.37679446          -1.24285529          -1.36771221         \n",
       "5   0.79573163          -0.25944238           0.58983954         \n",
       "6  -0.38544716          -0.35390168          -0.37759650         \n",
       "7  -0.13952452           0.38902221          -0.03150021         \n",
       "8  -1.43144369          -1.34597075          -1.38412874         \n",
       "9   0.97916619           1.33006417           1.10968302         \n",
       "10 -0.08740195          -0.38934510          -0.36096700         \n",
       "11  0.79489092           0.77766621           0.80548945         \n",
       "12  1.30587861           1.07095165           1.17223717         \n",
       "13  1.29944628           1.74207312           1.46010421         \n",
       "   chr1:1173861-1177877 ⋯ chrX:155195977-155197058 chrX:155808742-155809545\n",
       "1  -1.65083154          ⋯ -1.24573662              -0.90803886             \n",
       "2  -0.16666137          ⋯  0.32309810              -0.32075846             \n",
       "3  -0.12742834          ⋯ -0.52344644              -0.39128403             \n",
       "4  -1.35822078          ⋯ -0.91582772              -0.56308003             \n",
       "5   0.81519832          ⋯  2.56752925               2.25705717             \n",
       "6  -0.31856457          ⋯ -1.09262109              -0.53536736             \n",
       "7  -0.02117041          ⋯  0.07181798              -0.13406964             \n",
       "8  -1.44921966          ⋯ -0.58816605              -0.89291907             \n",
       "9   1.06905042          ⋯  0.62220360              -0.43773737             \n",
       "10 -0.34354768          ⋯ -0.47444861              -0.02761864             \n",
       "11  0.99449007          ⋯ -0.26451950              -0.34585428             \n",
       "12  1.29382822          ⋯  1.11803869               0.04304297             \n",
       "13  1.26307731          ⋯  0.40207840               2.25662758             \n",
       "   chrX:155997290-155999632 chrY:11107221-11107764 chrY:11291679-11294673\n",
       "1  -1.14199386              -1.0767967             -1.280114494          \n",
       "2  -0.45851320              -0.4772263             -0.334667846          \n",
       "3  -0.83835861              -1.0155648             -0.979618739          \n",
       "4  -0.78063955              -0.6458549             -0.515246801          \n",
       "5   2.66385058               2.3907511              2.032436587          \n",
       "6  -0.23991049              -0.6186544             -0.798120147          \n",
       "7  -0.62875018              -0.4098423              0.083376585          \n",
       "8  -0.97890340              -1.0490367             -0.855488832          \n",
       "9   0.77006665               1.1920584              0.299268465          \n",
       "10  0.04989674              -0.2222849             -0.456937028          \n",
       "11  0.46503552               0.4120110              0.006393987          \n",
       "12  0.89762037               0.7862436              1.010283801          \n",
       "13  0.22059944               0.7341968              1.788434463          \n",
       "   chrY:11312482-11312986 chrY:56830571-56839930 chrY:56840097-56841100\n",
       "1  -1.12021974            -1.2677838             -1.2849386            \n",
       "2  -0.20106473            -0.1970321             -0.3013612            \n",
       "3  -0.59758074            -0.5987141             -0.5101605            \n",
       "4  -1.00574208            -0.7490242             -0.5421367            \n",
       "5   1.93679696             2.2287754              1.8374929            \n",
       "6  -0.64691917            -0.5983104             -0.9099538            \n",
       "7   0.26818660            -0.1281676             -0.1706913            \n",
       "8  -1.47656774            -1.0312473             -1.3716949            \n",
       "9  -0.03357013             0.3620827              1.1450446            \n",
       "10 -0.01333567            -0.2781429             -0.2025586            \n",
       "11  0.29840354            -0.3619668             -0.2149075            \n",
       "12  0.81330286             0.9501583              1.2468272            \n",
       "13  1.77831004             1.6693728              1.2790384            \n",
       "   chrY:56842147-56844584 chrY:56871910-56872550\n",
       "1  -1.43228821            -1.2209447            \n",
       "2  -0.05304641            -0.7781738            \n",
       "3  -0.42341693            -0.8414904            \n",
       "4  -1.05423485            -0.8737104            \n",
       "5   1.86666497             2.2731651            \n",
       "6  -0.57758820            -0.6869814            \n",
       "7   0.06829408             0.8113858            \n",
       "8  -1.28766745            -1.0193690            \n",
       "9   0.41910178             0.9267091            \n",
       "10  0.01515500             0.3246458            \n",
       "11 -0.05759010            -0.2212587            \n",
       "12  0.61473443             0.3141952            \n",
       "13  1.90188190             0.9918274            "
      ]
     },
     "metadata": {},
     "output_type": "display_data"
    }
   ],
   "source": [
    "ATAC_matrix = cbind(condition, ATAC_matrix) \n",
    "ATAC_matrix"
   ]
  },
  {
   "cell_type": "markdown",
   "id": "7e0bff43-863a-456b-9dce-ddcad63e519a",
   "metadata": {},
   "source": [
    "## Fit Model"
   ]
  },
  {
   "cell_type": "code",
   "execution_count": 15,
   "id": "19e8ad12-d993-4afc-983c-9172fe3bf88c",
   "metadata": {},
   "outputs": [
    {
     "name": "stderr",
     "output_type": "stream",
     "text": [
      "Warning message in polr(\"condition ~ . - V1\", data = (ATAC_matrix), Hess = TRUE, :\n",
      "“design appears to be rank-deficient, so dropping some coefs”\n"
     ]
    }
   ],
   "source": [
    "fit = polr(\"condition ~ . - V1\", data=(ATAC_matrix), Hess=TRUE, method = \"logistic\")\n",
    "\n",
    "# fit = clm(\"condition ~ .\", data=(ATAC_matrix), Hess=TRUE, method = \"logistic\")"
   ]
  },
  {
   "cell_type": "code",
   "execution_count": 16,
   "id": "e26bc4a0-66bc-4904-8adb-a04ff3fd430d",
   "metadata": {},
   "outputs": [
    {
     "data": {
      "text/html": [
       "<table class=\"dataframe\">\n",
       "<caption>A matrix: 14 × 4 of type dbl</caption>\n",
       "<thead>\n",
       "\t<tr><th></th><th scope=col>Value</th><th scope=col>Std. Error</th><th scope=col>t value</th><th scope=col>p value</th></tr>\n",
       "</thead>\n",
       "<tbody>\n",
       "\t<tr><th scope=row>`chr1:865151-866637`</th><td>  74.210889</td><td>3993.567</td><td> 0.018582608</td><td>0.985</td></tr>\n",
       "\t<tr><th scope=row>`chr1:893984-895972`</th><td> 338.104152</td><td>4165.645</td><td> 0.081164903</td><td>0.935</td></tr>\n",
       "\t<tr><th scope=row>`chr1:896338-896626`</th><td> -98.720472</td><td>3175.405</td><td>-0.031089100</td><td>0.975</td></tr>\n",
       "\t<tr><th scope=row>`chr1:978039-1012768`</th><td> 428.733032</td><td>1357.353</td><td> 0.315859542</td><td>0.752</td></tr>\n",
       "\t<tr><th scope=row>`chr1:1033469-1040884`</th><td> 335.489287</td><td>2806.946</td><td> 0.119521094</td><td>0.905</td></tr>\n",
       "\t<tr><th scope=row>`chr1:1093124-1102685`</th><td> 194.349824</td><td>5985.047</td><td> 0.032472565</td><td>0.974</td></tr>\n",
       "\t<tr><th scope=row>`chr1:1116459-1122235`</th><td>-620.641034</td><td>7959.952</td><td>-0.077970449</td><td>0.938</td></tr>\n",
       "\t<tr><th scope=row>`chr1:1173861-1177877`</th><td>-328.873149</td><td>8935.752</td><td>-0.036804195</td><td>0.971</td></tr>\n",
       "\t<tr><th scope=row>`chr1:1187587-1193352`</th><td> -62.070009</td><td>9234.584</td><td>-0.006721473</td><td>0.995</td></tr>\n",
       "\t<tr><th scope=row>`chr1:1193465-1196167`</th><td>-155.136660</td><td>5245.223</td><td>-0.029576753</td><td>0.976</td></tr>\n",
       "\t<tr><th scope=row>`chr1:1202231-1208107`</th><td>-110.057019</td><td>7293.216</td><td>-0.015090327</td><td>0.988</td></tr>\n",
       "\t<tr><th scope=row>`chr1:1586785-1587347`</th><td> -34.634996</td><td>1843.674</td><td>-0.018785853</td><td>0.985</td></tr>\n",
       "\t<tr><th scope=row>Control|Medium</th><td>  -2.477878</td><td>1809.148</td><td>-0.001369638</td><td>0.999</td></tr>\n",
       "\t<tr><th scope=row>Medium|High</th><td>  38.841942</td><td>3289.378</td><td> 0.011808294</td><td>0.991</td></tr>\n",
       "</tbody>\n",
       "</table>\n"
      ],
      "text/latex": [
       "A matrix: 14 × 4 of type dbl\n",
       "\\begin{tabular}{r|llll}\n",
       "  & Value & Std. Error & t value & p value\\\\\n",
       "\\hline\n",
       "\t`chr1:865151-866637` &   74.210889 & 3993.567 &  0.018582608 & 0.985\\\\\n",
       "\t`chr1:893984-895972` &  338.104152 & 4165.645 &  0.081164903 & 0.935\\\\\n",
       "\t`chr1:896338-896626` &  -98.720472 & 3175.405 & -0.031089100 & 0.975\\\\\n",
       "\t`chr1:978039-1012768` &  428.733032 & 1357.353 &  0.315859542 & 0.752\\\\\n",
       "\t`chr1:1033469-1040884` &  335.489287 & 2806.946 &  0.119521094 & 0.905\\\\\n",
       "\t`chr1:1093124-1102685` &  194.349824 & 5985.047 &  0.032472565 & 0.974\\\\\n",
       "\t`chr1:1116459-1122235` & -620.641034 & 7959.952 & -0.077970449 & 0.938\\\\\n",
       "\t`chr1:1173861-1177877` & -328.873149 & 8935.752 & -0.036804195 & 0.971\\\\\n",
       "\t`chr1:1187587-1193352` &  -62.070009 & 9234.584 & -0.006721473 & 0.995\\\\\n",
       "\t`chr1:1193465-1196167` & -155.136660 & 5245.223 & -0.029576753 & 0.976\\\\\n",
       "\t`chr1:1202231-1208107` & -110.057019 & 7293.216 & -0.015090327 & 0.988\\\\\n",
       "\t`chr1:1586785-1587347` &  -34.634996 & 1843.674 & -0.018785853 & 0.985\\\\\n",
       "\tControl\\textbar{}Medium &   -2.477878 & 1809.148 & -0.001369638 & 0.999\\\\\n",
       "\tMedium\\textbar{}High &   38.841942 & 3289.378 &  0.011808294 & 0.991\\\\\n",
       "\\end{tabular}\n"
      ],
      "text/markdown": [
       "\n",
       "A matrix: 14 × 4 of type dbl\n",
       "\n",
       "| <!--/--> | Value | Std. Error | t value | p value |\n",
       "|---|---|---|---|---|\n",
       "| `chr1:865151-866637` |   74.210889 | 3993.567 |  0.018582608 | 0.985 |\n",
       "| `chr1:893984-895972` |  338.104152 | 4165.645 |  0.081164903 | 0.935 |\n",
       "| `chr1:896338-896626` |  -98.720472 | 3175.405 | -0.031089100 | 0.975 |\n",
       "| `chr1:978039-1012768` |  428.733032 | 1357.353 |  0.315859542 | 0.752 |\n",
       "| `chr1:1033469-1040884` |  335.489287 | 2806.946 |  0.119521094 | 0.905 |\n",
       "| `chr1:1093124-1102685` |  194.349824 | 5985.047 |  0.032472565 | 0.974 |\n",
       "| `chr1:1116459-1122235` | -620.641034 | 7959.952 | -0.077970449 | 0.938 |\n",
       "| `chr1:1173861-1177877` | -328.873149 | 8935.752 | -0.036804195 | 0.971 |\n",
       "| `chr1:1187587-1193352` |  -62.070009 | 9234.584 | -0.006721473 | 0.995 |\n",
       "| `chr1:1193465-1196167` | -155.136660 | 5245.223 | -0.029576753 | 0.976 |\n",
       "| `chr1:1202231-1208107` | -110.057019 | 7293.216 | -0.015090327 | 0.988 |\n",
       "| `chr1:1586785-1587347` |  -34.634996 | 1843.674 | -0.018785853 | 0.985 |\n",
       "| Control|Medium |   -2.477878 | 1809.148 | -0.001369638 | 0.999 |\n",
       "| Medium|High |   38.841942 | 3289.378 |  0.011808294 | 0.991 |\n",
       "\n"
      ],
      "text/plain": [
       "                       Value       Std. Error t value      p value\n",
       "`chr1:865151-866637`     74.210889 3993.567    0.018582608 0.985  \n",
       "`chr1:893984-895972`    338.104152 4165.645    0.081164903 0.935  \n",
       "`chr1:896338-896626`    -98.720472 3175.405   -0.031089100 0.975  \n",
       "`chr1:978039-1012768`   428.733032 1357.353    0.315859542 0.752  \n",
       "`chr1:1033469-1040884`  335.489287 2806.946    0.119521094 0.905  \n",
       "`chr1:1093124-1102685`  194.349824 5985.047    0.032472565 0.974  \n",
       "`chr1:1116459-1122235` -620.641034 7959.952   -0.077970449 0.938  \n",
       "`chr1:1173861-1177877` -328.873149 8935.752   -0.036804195 0.971  \n",
       "`chr1:1187587-1193352`  -62.070009 9234.584   -0.006721473 0.995  \n",
       "`chr1:1193465-1196167` -155.136660 5245.223   -0.029576753 0.976  \n",
       "`chr1:1202231-1208107` -110.057019 7293.216   -0.015090327 0.988  \n",
       "`chr1:1586785-1587347`  -34.634996 1843.674   -0.018785853 0.985  \n",
       "Control|Medium           -2.477878 1809.148   -0.001369638 0.999  \n",
       "Medium|High              38.841942 3289.378    0.011808294 0.991  "
      ]
     },
     "metadata": {},
     "output_type": "display_data"
    }
   ],
   "source": [
    "summary_table <- coef(summary(fit))\n",
    "pval <- pnorm(abs(summary_table[, \"t value\"]),lower.tail = FALSE)* 2\n",
    "summary_table <- cbind(summary_table, \"p value\" = round(pval,3))\n",
    "summary_table"
   ]
  },
  {
   "cell_type": "code",
   "execution_count": 17,
   "id": "2ef0989a-1ed3-4e4c-a9f8-3f8450269b3e",
   "metadata": {},
   "outputs": [
    {
     "data": {
      "text/plain": [
       "Call:\n",
       "polr(formula = \"condition ~ . - V1\", data = (ATAC_matrix), Hess = TRUE, \n",
       "    method = \"logistic\")\n",
       "\n",
       "Coefficients:\n",
       "                         Value Std. Error   t value\n",
       "`chr1:865151-866637`     74.21       3994  0.018583\n",
       "`chr1:893984-895972`    338.10       4166  0.081165\n",
       "`chr1:896338-896626`    -98.72       3175 -0.031089\n",
       "`chr1:978039-1012768`   428.73       1357  0.315860\n",
       "`chr1:1033469-1040884`  335.49       2807  0.119521\n",
       "`chr1:1093124-1102685`  194.35       5985  0.032473\n",
       "`chr1:1116459-1122235` -620.64       7960 -0.077970\n",
       "`chr1:1173861-1177877` -328.87       8936 -0.036804\n",
       "`chr1:1187587-1193352`  -62.07       9235 -0.006721\n",
       "`chr1:1193465-1196167` -155.14       5245 -0.029577\n",
       "`chr1:1202231-1208107` -110.06       7293 -0.015090\n",
       "`chr1:1586785-1587347`  -34.63       1844 -0.018786\n",
       "\n",
       "Intercepts:\n",
       "               Value     Std. Error t value  \n",
       "Control|Medium   -2.4779 1809.1479    -0.0014\n",
       "Medium|High      38.8419 3289.3779     0.0118\n",
       "\n",
       "Residual Deviance: 6.996155e-05 \n",
       "AIC: 28.00007 "
      ]
     },
     "metadata": {},
     "output_type": "display_data"
    }
   ],
   "source": [
    "summary(fit)"
   ]
  },
  {
   "cell_type": "code",
   "execution_count": 18,
   "id": "2dbdcf3a-fdab-45c1-8c02-c95a41529226",
   "metadata": {},
   "outputs": [
    {
     "data": {
      "text/html": [
       "<style>\n",
       ".dl-inline {width: auto; margin:0; padding: 0}\n",
       ".dl-inline>dt, .dl-inline>dd {float: none; width: auto; display: inline-block}\n",
       ".dl-inline>dt::after {content: \":\\0020\"; padding-right: .5ex}\n",
       ".dl-inline>dt:not(:first-of-type) {padding-left: .5ex}\n",
       "</style><dl class=dl-inline><dt>`chr1:865151-866637`</dt><dd>74.210888817408</dd><dt>`chr1:893984-895972`</dt><dd>338.10415150543</dd><dt>`chr1:896338-896626`</dt><dd>-98.7204724602945</dd><dt>`chr1:978039-1012768`</dt><dd>428.733031728661</dd><dt>`chr1:1033469-1040884`</dt><dd>335.489286652246</dd><dt>`chr1:1093124-1102685`</dt><dd>194.349824205797</dd><dt>`chr1:1116459-1122235`</dt><dd>-620.64103400113</dd><dt>`chr1:1173861-1177877`</dt><dd>-328.873148586902</dd><dt>`chr1:1187587-1193352`</dt><dd>-62.0700088850931</dd><dt>`chr1:1193465-1196167`</dt><dd>-155.13665981772</dd><dt>`chr1:1202231-1208107`</dt><dd>-110.057018850279</dd><dt>`chr1:1586785-1587347`</dt><dd>-34.6349957985963</dd></dl>\n"
      ],
      "text/latex": [
       "\\begin{description*}\n",
       "\\item[`chr1:865151-866637`] 74.210888817408\n",
       "\\item[`chr1:893984-895972`] 338.10415150543\n",
       "\\item[`chr1:896338-896626`] -98.7204724602945\n",
       "\\item[`chr1:978039-1012768`] 428.733031728661\n",
       "\\item[`chr1:1033469-1040884`] 335.489286652246\n",
       "\\item[`chr1:1093124-1102685`] 194.349824205797\n",
       "\\item[`chr1:1116459-1122235`] -620.64103400113\n",
       "\\item[`chr1:1173861-1177877`] -328.873148586902\n",
       "\\item[`chr1:1187587-1193352`] -62.0700088850931\n",
       "\\item[`chr1:1193465-1196167`] -155.13665981772\n",
       "\\item[`chr1:1202231-1208107`] -110.057018850279\n",
       "\\item[`chr1:1586785-1587347`] -34.6349957985963\n",
       "\\end{description*}\n"
      ],
      "text/markdown": [
       "`chr1:865151-866637`\n",
       ":   74.210888817408`chr1:893984-895972`\n",
       ":   338.10415150543`chr1:896338-896626`\n",
       ":   -98.7204724602945`chr1:978039-1012768`\n",
       ":   428.733031728661`chr1:1033469-1040884`\n",
       ":   335.489286652246`chr1:1093124-1102685`\n",
       ":   194.349824205797`chr1:1116459-1122235`\n",
       ":   -620.64103400113`chr1:1173861-1177877`\n",
       ":   -328.873148586902`chr1:1187587-1193352`\n",
       ":   -62.0700088850931`chr1:1193465-1196167`\n",
       ":   -155.13665981772`chr1:1202231-1208107`\n",
       ":   -110.057018850279`chr1:1586785-1587347`\n",
       ":   -34.6349957985963\n",
       "\n"
      ],
      "text/plain": [
       "  `chr1:865151-866637`   `chr1:893984-895972`   `chr1:896338-896626` \n",
       "              74.21089              338.10415              -98.72047 \n",
       " `chr1:978039-1012768` `chr1:1033469-1040884` `chr1:1093124-1102685` \n",
       "             428.73303              335.48929              194.34982 \n",
       "`chr1:1116459-1122235` `chr1:1173861-1177877` `chr1:1187587-1193352` \n",
       "            -620.64103             -328.87315              -62.07001 \n",
       "`chr1:1193465-1196167` `chr1:1202231-1208107` `chr1:1586785-1587347` \n",
       "            -155.13666             -110.05702              -34.63500 "
      ]
     },
     "metadata": {},
     "output_type": "display_data"
    }
   ],
   "source": [
    "coef(fit)"
   ]
  }
 ],
 "metadata": {
  "kernelspec": {
   "display_name": "R",
   "language": "R",
   "name": "ir"
  },
  "language_info": {
   "codemirror_mode": "r",
   "file_extension": ".r",
   "mimetype": "text/x-r-source",
   "name": "R",
   "pygments_lexer": "r",
   "version": "4.1.0"
  }
 },
 "nbformat": 4,
 "nbformat_minor": 5
}
